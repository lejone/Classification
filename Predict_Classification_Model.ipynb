{
  "nbformat": 4,
  "nbformat_minor": 0,
  "metadata": {
    "colab": {
      "name": "Predict Classification Model.ipynb",
      "provenance": [],
      "collapsed_sections": [
        "RJc6nrO6iZ4K",
        "W0PxwvL3Yh6a",
        "6XNHRj1QiGw6",
        "KZh1WiiHy8FM",
        "9ueXeWJSQF1Z"
      ]
    },
    "kernelspec": {
      "name": "python3",
      "display_name": "Python 3"
    }
  },
  "cells": [
    {
      "cell_type": "markdown",
      "metadata": {
        "id": "h4EK0dsEXQEs",
        "colab_type": "text"
      },
      "source": [
        "#Climate Change Sentiment Analysis\n"
      ]
    },
    {
      "cell_type": "markdown",
      "metadata": {
        "id": "x8XvQ7ZMa7LX",
        "colab_type": "text"
      },
      "source": [
        "###Background\n",
        "Many companies are built around lessening one’s environmental impact or carbon footprint. They offer products and services that are environmentally friendly and sustainable, in line with their values and ideals. They would like to determine how people perceive climate change and whether or not they believe it is a real threat.\n",
        "\n",
        "### Problem Statement\n",
        "Create a Machine Learning model that is able to classify whether or not a person believes in climate change, based on their novel tweet data."
      ]
    },
    {
      "cell_type": "markdown",
      "metadata": {
        "id": "KWdzidtwiTUl",
        "colab_type": "text"
      },
      "source": [
        "# 1.Imported Libraries"
      ]
    },
    {
      "cell_type": "code",
      "metadata": {
        "id": "MU33t1kGXTPI",
        "colab_type": "code",
        "colab": {
          "base_uri": "https://localhost:8080/",
          "height": 935
        },
        "outputId": "903a12b3-8cf9-4696-f3aa-cb30ce13161e"
      },
      "source": [
        "#visualisation Libraries\n",
        "import matplotlib.pyplot as plt\n",
        "import seaborn as sns\n",
        "#Analysis Libraries\n",
        "import numpy as np\n",
        "import pandas as pd\n",
        "#NLP Libraries\n",
        "import nltk\n",
        "from nltk.corpus import stopwords\n",
        "nltk.download(['punkt','stopwords'])\n",
        "nltk.download('vader_lexicon')\n",
        "nltk.download('popular')\n",
        "from sklearn.utils import resample\n",
        "from nltk.stem import WordNetLemmatizer \n",
        "from nltk.tokenize import sent_tokenize, word_tokenize\n",
        "from nltk.tokenize import word_tokenize, TreebankWordTokenizer \n",
        "import re\n",
        "import string\n",
        "# ML Libraries\n",
        "from sklearn.pipeline import Pipeline\n",
        "from sklearn.svm import LinearSVC,SVC\n",
        "from sklearn.model_selection import train_test_split, GridSearchCV\n",
        "from sklearn.metrics import classification_report,confusion_matrix,accuracy_score\n",
        "from sklearn.feature_extraction.text import TfidfVectorizer\n",
        "from sklearn import metrics\n",
        "import spacy\n",
        "nlp = spacy.load('en_core_web_sm')\n",
        "from nltk import SnowballStemmer"
      ],
      "execution_count": 77,
      "outputs": [
        {
          "output_type": "stream",
          "text": [
            "[nltk_data] Downloading package punkt to /root/nltk_data...\n",
            "[nltk_data]   Package punkt is already up-to-date!\n",
            "[nltk_data] Downloading package stopwords to /root/nltk_data...\n",
            "[nltk_data]   Package stopwords is already up-to-date!\n",
            "[nltk_data] Downloading package vader_lexicon to /root/nltk_data...\n",
            "[nltk_data]   Package vader_lexicon is already up-to-date!\n",
            "[nltk_data] Downloading collection 'popular'\n",
            "[nltk_data]    | \n",
            "[nltk_data]    | Downloading package cmudict to /root/nltk_data...\n",
            "[nltk_data]    |   Package cmudict is already up-to-date!\n",
            "[nltk_data]    | Downloading package gazetteers to /root/nltk_data...\n",
            "[nltk_data]    |   Package gazetteers is already up-to-date!\n",
            "[nltk_data]    | Downloading package genesis to /root/nltk_data...\n",
            "[nltk_data]    |   Package genesis is already up-to-date!\n",
            "[nltk_data]    | Downloading package gutenberg to /root/nltk_data...\n",
            "[nltk_data]    |   Package gutenberg is already up-to-date!\n",
            "[nltk_data]    | Downloading package inaugural to /root/nltk_data...\n",
            "[nltk_data]    |   Package inaugural is already up-to-date!\n",
            "[nltk_data]    | Downloading package movie_reviews to\n",
            "[nltk_data]    |     /root/nltk_data...\n",
            "[nltk_data]    |   Package movie_reviews is already up-to-date!\n",
            "[nltk_data]    | Downloading package names to /root/nltk_data...\n",
            "[nltk_data]    |   Package names is already up-to-date!\n",
            "[nltk_data]    | Downloading package shakespeare to /root/nltk_data...\n",
            "[nltk_data]    |   Package shakespeare is already up-to-date!\n",
            "[nltk_data]    | Downloading package stopwords to /root/nltk_data...\n",
            "[nltk_data]    |   Package stopwords is already up-to-date!\n",
            "[nltk_data]    | Downloading package treebank to /root/nltk_data...\n",
            "[nltk_data]    |   Package treebank is already up-to-date!\n",
            "[nltk_data]    | Downloading package twitter_samples to\n",
            "[nltk_data]    |     /root/nltk_data...\n",
            "[nltk_data]    |   Package twitter_samples is already up-to-date!\n",
            "[nltk_data]    | Downloading package omw to /root/nltk_data...\n",
            "[nltk_data]    |   Package omw is already up-to-date!\n",
            "[nltk_data]    | Downloading package wordnet to /root/nltk_data...\n",
            "[nltk_data]    |   Package wordnet is already up-to-date!\n",
            "[nltk_data]    | Downloading package wordnet_ic to /root/nltk_data...\n",
            "[nltk_data]    |   Package wordnet_ic is already up-to-date!\n",
            "[nltk_data]    | Downloading package words to /root/nltk_data...\n",
            "[nltk_data]    |   Package words is already up-to-date!\n",
            "[nltk_data]    | Downloading package maxent_ne_chunker to\n",
            "[nltk_data]    |     /root/nltk_data...\n",
            "[nltk_data]    |   Package maxent_ne_chunker is already up-to-date!\n",
            "[nltk_data]    | Downloading package punkt to /root/nltk_data...\n",
            "[nltk_data]    |   Package punkt is already up-to-date!\n",
            "[nltk_data]    | Downloading package snowball_data to\n",
            "[nltk_data]    |     /root/nltk_data...\n",
            "[nltk_data]    |   Package snowball_data is already up-to-date!\n",
            "[nltk_data]    | Downloading package averaged_perceptron_tagger to\n",
            "[nltk_data]    |     /root/nltk_data...\n",
            "[nltk_data]    |   Package averaged_perceptron_tagger is already up-\n",
            "[nltk_data]    |       to-date!\n",
            "[nltk_data]    | \n",
            "[nltk_data]  Done downloading collection popular\n"
          ],
          "name": "stdout"
        }
      ]
    },
    {
      "cell_type": "markdown",
      "metadata": {
        "id": "RJc6nrO6iZ4K",
        "colab_type": "text"
      },
      "source": [
        "# 2.Imported Data"
      ]
    },
    {
      "cell_type": "code",
      "metadata": {
        "id": "-OKEaN-cP3l2",
        "colab_type": "code",
        "colab": {
          "base_uri": "https://localhost:8080/",
          "height": 0
        },
        "outputId": "7261cad2-b3cf-482d-e101-92a063998c30"
      },
      "source": [
        "df = pd.read_csv('train.csv')\n",
        "test=pd.read_csv('test.csv')\n",
        "df.head(5)"
      ],
      "execution_count": 78,
      "outputs": [
        {
          "output_type": "execute_result",
          "data": {
            "text/html": [
              "<div>\n",
              "<style scoped>\n",
              "    .dataframe tbody tr th:only-of-type {\n",
              "        vertical-align: middle;\n",
              "    }\n",
              "\n",
              "    .dataframe tbody tr th {\n",
              "        vertical-align: top;\n",
              "    }\n",
              "\n",
              "    .dataframe thead th {\n",
              "        text-align: right;\n",
              "    }\n",
              "</style>\n",
              "<table border=\"1\" class=\"dataframe\">\n",
              "  <thead>\n",
              "    <tr style=\"text-align: right;\">\n",
              "      <th></th>\n",
              "      <th>sentiment</th>\n",
              "      <th>message</th>\n",
              "      <th>tweetid</th>\n",
              "    </tr>\n",
              "  </thead>\n",
              "  <tbody>\n",
              "    <tr>\n",
              "      <th>0</th>\n",
              "      <td>1</td>\n",
              "      <td>PolySciMajor EPA chief doesn't think carbon di...</td>\n",
              "      <td>625221</td>\n",
              "    </tr>\n",
              "    <tr>\n",
              "      <th>1</th>\n",
              "      <td>1</td>\n",
              "      <td>It's not like we lack evidence of anthropogeni...</td>\n",
              "      <td>126103</td>\n",
              "    </tr>\n",
              "    <tr>\n",
              "      <th>2</th>\n",
              "      <td>2</td>\n",
              "      <td>RT @RawStory: Researchers say we have three ye...</td>\n",
              "      <td>698562</td>\n",
              "    </tr>\n",
              "    <tr>\n",
              "      <th>3</th>\n",
              "      <td>1</td>\n",
              "      <td>#TodayinMaker# WIRED : 2016 was a pivotal year...</td>\n",
              "      <td>573736</td>\n",
              "    </tr>\n",
              "    <tr>\n",
              "      <th>4</th>\n",
              "      <td>1</td>\n",
              "      <td>RT @SoyNovioDeTodas: It's 2016, and a racist, ...</td>\n",
              "      <td>466954</td>\n",
              "    </tr>\n",
              "  </tbody>\n",
              "</table>\n",
              "</div>"
            ],
            "text/plain": [
              "   sentiment                                            message  tweetid\n",
              "0          1  PolySciMajor EPA chief doesn't think carbon di...   625221\n",
              "1          1  It's not like we lack evidence of anthropogeni...   126103\n",
              "2          2  RT @RawStory: Researchers say we have three ye...   698562\n",
              "3          1  #TodayinMaker# WIRED : 2016 was a pivotal year...   573736\n",
              "4          1  RT @SoyNovioDeTodas: It's 2016, and a racist, ...   466954"
            ]
          },
          "metadata": {
            "tags": []
          },
          "execution_count": 78
        }
      ]
    },
    {
      "cell_type": "markdown",
      "metadata": {
        "id": "fiwOOm-WdMdh",
        "colab_type": "text"
      },
      "source": [
        "df DataFrame contains three columns. sentiment, message and tweetid"
      ]
    },
    {
      "cell_type": "code",
      "metadata": {
        "id": "pQtN3azudIFJ",
        "colab_type": "code",
        "colab": {
          "base_uri": "https://localhost:8080/",
          "height": 0
        },
        "outputId": "0ca469f1-bd6e-4d90-f1c1-28d1578a7ac9"
      },
      "source": [
        "df.info()"
      ],
      "execution_count": 79,
      "outputs": [
        {
          "output_type": "stream",
          "text": [
            "<class 'pandas.core.frame.DataFrame'>\n",
            "RangeIndex: 15819 entries, 0 to 15818\n",
            "Data columns (total 3 columns):\n",
            " #   Column     Non-Null Count  Dtype \n",
            "---  ------     --------------  ----- \n",
            " 0   sentiment  15819 non-null  int64 \n",
            " 1   message    15819 non-null  object\n",
            " 2   tweetid    15819 non-null  int64 \n",
            "dtypes: int64(2), object(1)\n",
            "memory usage: 370.9+ KB\n"
          ],
          "name": "stdout"
        }
      ]
    },
    {
      "cell_type": "markdown",
      "metadata": {
        "id": "W0PxwvL3Yh6a",
        "colab_type": "text"
      },
      "source": [
        "#3.Data Inspection"
      ]
    },
    {
      "cell_type": "markdown",
      "metadata": {
        "id": "U2vDJJVwGNCl",
        "colab_type": "text"
      },
      "source": [
        "Check unique values in each feature"
      ]
    },
    {
      "cell_type": "code",
      "metadata": {
        "id": "65Jb8jiM1WvJ",
        "colab_type": "code",
        "colab": {
          "base_uri": "https://localhost:8080/",
          "height": 0
        },
        "outputId": "9572954c-22b6-4d31-fa40-23d4c3d3efc7"
      },
      "source": [
        "number_of_unique=[df[i].nunique() for i in df.columns]\n",
        "column_names=[i for i in df.columns]\n",
        "unique_zip=list(zip(column_names,number_of_unique))\n",
        "unique_df=pd.DataFrame(unique_zip,columns=['Column_Id','Unique_Values'])\n",
        "unique_df"
      ],
      "execution_count": 80,
      "outputs": [
        {
          "output_type": "execute_result",
          "data": {
            "text/html": [
              "<div>\n",
              "<style scoped>\n",
              "    .dataframe tbody tr th:only-of-type {\n",
              "        vertical-align: middle;\n",
              "    }\n",
              "\n",
              "    .dataframe tbody tr th {\n",
              "        vertical-align: top;\n",
              "    }\n",
              "\n",
              "    .dataframe thead th {\n",
              "        text-align: right;\n",
              "    }\n",
              "</style>\n",
              "<table border=\"1\" class=\"dataframe\">\n",
              "  <thead>\n",
              "    <tr style=\"text-align: right;\">\n",
              "      <th></th>\n",
              "      <th>Column_Id</th>\n",
              "      <th>Unique_Values</th>\n",
              "    </tr>\n",
              "  </thead>\n",
              "  <tbody>\n",
              "    <tr>\n",
              "      <th>0</th>\n",
              "      <td>sentiment</td>\n",
              "      <td>4</td>\n",
              "    </tr>\n",
              "    <tr>\n",
              "      <th>1</th>\n",
              "      <td>message</td>\n",
              "      <td>14229</td>\n",
              "    </tr>\n",
              "    <tr>\n",
              "      <th>2</th>\n",
              "      <td>tweetid</td>\n",
              "      <td>15819</td>\n",
              "    </tr>\n",
              "  </tbody>\n",
              "</table>\n",
              "</div>"
            ],
            "text/plain": [
              "   Column_Id  Unique_Values\n",
              "0  sentiment              4\n",
              "1    message          14229\n",
              "2    tweetid          15819"
            ]
          },
          "metadata": {
            "tags": []
          },
          "execution_count": 80
        }
      ]
    },
    {
      "cell_type": "markdown",
      "metadata": {
        "id": "J1H46iMbdqaf",
        "colab_type": "text"
      },
      "source": [
        "The message column has over 1000 duplicate entries that can be removed"
      ]
    },
    {
      "cell_type": "markdown",
      "metadata": {
        "id": "lYcSCHp3eGB9",
        "colab_type": "text"
      },
      "source": [
        "Function 1 removes duplicate entries. First occurrence remains"
      ]
    },
    {
      "cell_type": "code",
      "metadata": {
        "id": "blTVUcy0Qzmb",
        "colab_type": "code",
        "colab": {}
      },
      "source": [
        "#Function 1\n",
        "#Delete duplicate\n",
        "\n",
        "def delete_dup(df):\n",
        "  df=df.copy()\n",
        "  df = df.drop_duplicates(subset='message')\n",
        "  return df"
      ],
      "execution_count": 81,
      "outputs": []
    },
    {
      "cell_type": "markdown",
      "metadata": {
        "id": "Q1OBFEkWeTtW",
        "colab_type": "text"
      },
      "source": [
        "After running Function 1 runs 14229 unique columns remain"
      ]
    },
    {
      "cell_type": "code",
      "metadata": {
        "id": "LgU_h_tlYloS",
        "colab_type": "code",
        "colab": {}
      },
      "source": [
        "df=delete_dup(df)"
      ],
      "execution_count": 82,
      "outputs": []
    },
    {
      "cell_type": "code",
      "metadata": {
        "id": "f-pzMX5QB6BR",
        "colab_type": "code",
        "colab": {
          "base_uri": "https://localhost:8080/",
          "height": 0
        },
        "outputId": "cee532aa-0251-45f4-8981-6161f89ffec4"
      },
      "source": [
        "number_of_unique=[df[i].nunique() for i in df.columns]\n",
        "column_names=[i for i in df.columns]\n",
        "unique_zip=list(zip(column_names,number_of_unique))\n",
        "unique_df=pd.DataFrame(unique_zip,columns=['Columns_Feature','Unique_Values'])\n",
        "unique_df"
      ],
      "execution_count": 83,
      "outputs": [
        {
          "output_type": "execute_result",
          "data": {
            "text/html": [
              "<div>\n",
              "<style scoped>\n",
              "    .dataframe tbody tr th:only-of-type {\n",
              "        vertical-align: middle;\n",
              "    }\n",
              "\n",
              "    .dataframe tbody tr th {\n",
              "        vertical-align: top;\n",
              "    }\n",
              "\n",
              "    .dataframe thead th {\n",
              "        text-align: right;\n",
              "    }\n",
              "</style>\n",
              "<table border=\"1\" class=\"dataframe\">\n",
              "  <thead>\n",
              "    <tr style=\"text-align: right;\">\n",
              "      <th></th>\n",
              "      <th>Columns_Feature</th>\n",
              "      <th>Unique_Values</th>\n",
              "    </tr>\n",
              "  </thead>\n",
              "  <tbody>\n",
              "    <tr>\n",
              "      <th>0</th>\n",
              "      <td>sentiment</td>\n",
              "      <td>4</td>\n",
              "    </tr>\n",
              "    <tr>\n",
              "      <th>1</th>\n",
              "      <td>message</td>\n",
              "      <td>14229</td>\n",
              "    </tr>\n",
              "    <tr>\n",
              "      <th>2</th>\n",
              "      <td>tweetid</td>\n",
              "      <td>14229</td>\n",
              "    </tr>\n",
              "  </tbody>\n",
              "</table>\n",
              "</div>"
            ],
            "text/plain": [
              "  Columns_Feature  Unique_Values\n",
              "0       sentiment              4\n",
              "1         message          14229\n",
              "2         tweetid          14229"
            ]
          },
          "metadata": {
            "tags": []
          },
          "execution_count": 83
        }
      ]
    },
    {
      "cell_type": "markdown",
      "metadata": {
        "id": "qe5Vzn1qGfcm",
        "colab_type": "text"
      },
      "source": [
        "Check distribution of sentiment in data. Majority of data belongs to the Positive sentiment class, with Anti being the minority class"
      ]
    },
    {
      "cell_type": "code",
      "metadata": {
        "id": "zNMnPrLuw3cP",
        "colab_type": "code",
        "colab": {
          "base_uri": "https://localhost:8080/",
          "height": 0
        },
        "outputId": "3047680c-228a-4ecd-8289-84fa58ff53fc"
      },
      "source": [
        "sentiment_count=list(df['sentiment'].value_counts())\n",
        "sentiment_type=['Positive','News','Neutral','Anti']\n",
        "sentiment_percentage=[round(i/sum(sentiment_count)*100,2) for i in sentiment_count]\n",
        "sentiment=list(zip(sentiment_type,sentiment_count,sentiment_percentage))\n",
        "sentiment_df=pd.DataFrame(sentiment,columns=['Class','Count','Percentage'])\n",
        "sns.barplot(x=sentiment_count,y=sentiment_type)\n",
        "plt.xlabel('Number of Tweets')\n",
        "plt.title('Number of Messages per Class')\n",
        "plt.show()"
      ],
      "execution_count": 84,
      "outputs": [
        {
          "output_type": "display_data",
          "data": {
            "image/png": "[encoded data removed]",
            "text/plain": [
              "<Figure size 432x288 with 1 Axes>"
            ]
          },
          "metadata": {
            "tags": [],
            "needs_background": "light"
          }
        }
      ]
    },
    {
      "cell_type": "code",
      "metadata": {
        "id": "hL8iL5vDSUsA",
        "colab_type": "code",
        "colab": {}
      },
      "source": [
        "##############################"
      ],
      "execution_count": 85,
      "outputs": []
    },
    {
      "cell_type": "markdown",
      "metadata": {
        "id": "6XNHRj1QiGw6",
        "colab_type": "text"
      },
      "source": [
        "# 4.Data Preperation"
      ]
    },
    {
      "cell_type": "markdown",
      "metadata": {
        "id": "lG233gltfzmI",
        "colab_type": "text"
      },
      "source": [
        "Function 2 cleans the tweet messages by removing/editing unwanted information i.e URL's, lowercasing"
      ]
    },
    {
      "cell_type": "code",
      "metadata": {
        "id": "0raCE25xU715",
        "colab_type": "code",
        "colab": {}
      },
      "source": [
        "#Function 2\n",
        "def clean(text):\n",
        "\n",
        "  text=text.replace(\"'\",'')\n",
        "  text=text.replace(\".\",' ')\n",
        "  text=text.replace(\",\",' ')\n",
        "  text=text.replace(\"_\",' ')\n",
        "  text=text.replace(\"!\",' ')\n",
        "  text=text.replace(\"RT\",'relay') #Replace RT(Retweet) with relay\n",
        "  text=text.replace(r'\\d+','')\n",
        "  text=re.sub('((www\\.[^\\s]+)|(https?://[^\\s]+)|(https?//[^\\s]+))','url',text)\n",
        "  text=text.lower()  # Lowercase tweet\n",
        "  text =text.lstrip('\\'\"') # Remove extra white space\n",
        "  \n",
        "  return text"
      ],
      "execution_count": 86,
      "outputs": []
    },
    {
      "cell_type": "markdown",
      "metadata": {
        "id": "gk4HyPOJghLU",
        "colab_type": "text"
      },
      "source": [
        "Function 3 removes punction at the beginning and end of words"
      ]
    },
    {
      "cell_type": "code",
      "metadata": {
        "id": "6KYoOCa_kzB9",
        "colab_type": "code",
        "colab": {}
      },
      "source": [
        "#Function 3\n",
        "def rm_punc(text):\n",
        "  \n",
        "  clean_text=[]\n",
        "  for i in str(text).split():\n",
        "    rm=i.strip('\\'\"?,.:_/<>!')\n",
        "    clean_text.append(rm)\n",
        "  return ' '.join(clean_text)"
      ],
      "execution_count": 87,
      "outputs": []
    },
    {
      "cell_type": "code",
      "metadata": {
        "id": "O03c-11PVkuO",
        "colab_type": "code",
        "colab": {
          "base_uri": "https://localhost:8080/",
          "height": 0
        },
        "outputId": "55b06589-4703-424e-acb5-f3ddb969d6c6"
      },
      "source": [
        "df['message']=df['message'].apply(clean)\n",
        "df['message']=df['message'].apply(rm_punc)\n",
        "df"
      ],
      "execution_count": 88,
      "outputs": [
        {
          "output_type": "execute_result",
          "data": {
            "text/html": [
              "<div>\n",
              "<style scoped>\n",
              "    .dataframe tbody tr th:only-of-type {\n",
              "        vertical-align: middle;\n",
              "    }\n",
              "\n",
              "    .dataframe tbody tr th {\n",
              "        vertical-align: top;\n",
              "    }\n",
              "\n",
              "    .dataframe thead th {\n",
              "        text-align: right;\n",
              "    }\n",
              "</style>\n",
              "<table border=\"1\" class=\"dataframe\">\n",
              "  <thead>\n",
              "    <tr style=\"text-align: right;\">\n",
              "      <th></th>\n",
              "      <th>sentiment</th>\n",
              "      <th>message</th>\n",
              "      <th>tweetid</th>\n",
              "    </tr>\n",
              "  </thead>\n",
              "  <tbody>\n",
              "    <tr>\n",
              "      <th>0</th>\n",
              "      <td>1</td>\n",
              "      <td>polyscimajor epa chief doesnt think carbon dio...</td>\n",
              "      <td>625221</td>\n",
              "    </tr>\n",
              "    <tr>\n",
              "      <th>1</th>\n",
              "      <td>1</td>\n",
              "      <td>its not like we lack evidence of anthropogenic...</td>\n",
              "      <td>126103</td>\n",
              "    </tr>\n",
              "    <tr>\n",
              "      <th>2</th>\n",
              "      <td>2</td>\n",
              "      <td>relay @rawstory researchers say we have three ...</td>\n",
              "      <td>698562</td>\n",
              "    </tr>\n",
              "    <tr>\n",
              "      <th>3</th>\n",
              "      <td>1</td>\n",
              "      <td>#todayinmaker# wired  2016 was a pivotal year ...</td>\n",
              "      <td>573736</td>\n",
              "    </tr>\n",
              "    <tr>\n",
              "      <th>4</th>\n",
              "      <td>1</td>\n",
              "      <td>relay @soynoviodetodas its 2016 and a racist s...</td>\n",
              "      <td>466954</td>\n",
              "    </tr>\n",
              "    <tr>\n",
              "      <th>...</th>\n",
              "      <td>...</td>\n",
              "      <td>...</td>\n",
              "      <td>...</td>\n",
              "    </tr>\n",
              "    <tr>\n",
              "      <th>15813</th>\n",
              "      <td>1</td>\n",
              "      <td>relay @thinkprogress epa head falsely claims c...</td>\n",
              "      <td>442853</td>\n",
              "    </tr>\n",
              "    <tr>\n",
              "      <th>15814</th>\n",
              "      <td>1</td>\n",
              "      <td>relay @ezlusztig they took down the material o...</td>\n",
              "      <td>22001</td>\n",
              "    </tr>\n",
              "    <tr>\n",
              "      <th>15816</th>\n",
              "      <td>0</td>\n",
              "      <td>notiven relay nytimesworld what does trump act...</td>\n",
              "      <td>384248</td>\n",
              "    </tr>\n",
              "    <tr>\n",
              "      <th>15817</th>\n",
              "      <td>-1</td>\n",
              "      <td>relay @sara8smiles hey liberals the climate ch...</td>\n",
              "      <td>819732</td>\n",
              "    </tr>\n",
              "    <tr>\n",
              "      <th>15818</th>\n",
              "      <td>0</td>\n",
              "      <td>relay @chet cannon @kurteichenwalds climate ch...</td>\n",
              "      <td>806319</td>\n",
              "    </tr>\n",
              "  </tbody>\n",
              "</table>\n",
              "<p>14229 rows × 3 columns</p>\n",
              "</div>"
            ],
            "text/plain": [
              "       sentiment                                            message  tweetid\n",
              "0              1  polyscimajor epa chief doesnt think carbon dio...   625221\n",
              "1              1  its not like we lack evidence of anthropogenic...   126103\n",
              "2              2  relay @rawstory researchers say we have three ...   698562\n",
              "3              1  #todayinmaker# wired  2016 was a pivotal year ...   573736\n",
              "4              1  relay @soynoviodetodas its 2016 and a racist s...   466954\n",
              "...          ...                                                ...      ...\n",
              "15813          1  relay @thinkprogress epa head falsely claims c...   442853\n",
              "15814          1  relay @ezlusztig they took down the material o...    22001\n",
              "15816          0  notiven relay nytimesworld what does trump act...   384248\n",
              "15817         -1  relay @sara8smiles hey liberals the climate ch...   819732\n",
              "15818          0  relay @chet cannon @kurteichenwalds climate ch...   806319\n",
              "\n",
              "[14229 rows x 3 columns]"
            ]
          },
          "metadata": {
            "tags": []
          },
          "execution_count": 88
        }
      ]
    },
    {
      "cell_type": "markdown",
      "metadata": {
        "id": "c92XMdo3g7f1",
        "colab_type": "text"
      },
      "source": [
        "Function 4 replaces the @ with the word at\n",
        "Function 5 removes all #"
      ]
    },
    {
      "cell_type": "code",
      "metadata": {
        "id": "p5tPYXvnSuYF",
        "colab_type": "code",
        "colab": {}
      },
      "source": [
        "#Function 4\n",
        "def at(text):\n",
        " \n",
        "  #return ' '.join(re.sub(\"(@[A-Za-z0-9]+)|([^0-9A-Za-z \\t])|(\\w+:\\/\\/\\S+)\",\" \",text).split())\n",
        "  return ' '.join(re.sub(\"(@+)\",\"at \",text).split())"
      ],
      "execution_count": 89,
      "outputs": []
    },
    {
      "cell_type": "code",
      "metadata": {
        "id": "nTysvUkpugEH",
        "colab_type": "code",
        "colab": {}
      },
      "source": [
        "#Function 5\n",
        "def hashtag(text):\n",
        "\n",
        "  return ' '.join(re.sub(\"(#+)\",\"\",text).split())"
      ],
      "execution_count": 90,
      "outputs": []
    },
    {
      "cell_type": "code",
      "metadata": {
        "id": "B2JW5EcPYl2k",
        "colab_type": "code",
        "colab": {}
      },
      "source": [
        "#remove hashtags and @\n",
        "df['message']=df['message'].apply(at)\n",
        "df['message']=df['message'].apply(hashtag)"
      ],
      "execution_count": 91,
      "outputs": []
    },
    {
      "cell_type": "markdown",
      "metadata": {
        "id": "jWnS-WEbhTsA",
        "colab_type": "text"
      },
      "source": [
        "Cleaned tweet messages are now in a more appropriate form for classification"
      ]
    },
    {
      "cell_type": "code",
      "metadata": {
        "id": "uTwqU4-Whrf3",
        "colab_type": "code",
        "colab": {
          "base_uri": "https://localhost:8080/",
          "height": 0
        },
        "outputId": "72a71857-6c43-4a49-ab00-921a43abdda3"
      },
      "source": [
        "df.head(5)"
      ],
      "execution_count": 92,
      "outputs": [
        {
          "output_type": "execute_result",
          "data": {
            "text/html": [
              "<div>\n",
              "<style scoped>\n",
              "    .dataframe tbody tr th:only-of-type {\n",
              "        vertical-align: middle;\n",
              "    }\n",
              "\n",
              "    .dataframe tbody tr th {\n",
              "        vertical-align: top;\n",
              "    }\n",
              "\n",
              "    .dataframe thead th {\n",
              "        text-align: right;\n",
              "    }\n",
              "</style>\n",
              "<table border=\"1\" class=\"dataframe\">\n",
              "  <thead>\n",
              "    <tr style=\"text-align: right;\">\n",
              "      <th></th>\n",
              "      <th>sentiment</th>\n",
              "      <th>message</th>\n",
              "      <th>tweetid</th>\n",
              "    </tr>\n",
              "  </thead>\n",
              "  <tbody>\n",
              "    <tr>\n",
              "      <th>0</th>\n",
              "      <td>1</td>\n",
              "      <td>polyscimajor epa chief doesnt think carbon dio...</td>\n",
              "      <td>625221</td>\n",
              "    </tr>\n",
              "    <tr>\n",
              "      <th>1</th>\n",
              "      <td>1</td>\n",
              "      <td>its not like we lack evidence of anthropogenic...</td>\n",
              "      <td>126103</td>\n",
              "    </tr>\n",
              "    <tr>\n",
              "      <th>2</th>\n",
              "      <td>2</td>\n",
              "      <td>relay at rawstory researchers say we have thre...</td>\n",
              "      <td>698562</td>\n",
              "    </tr>\n",
              "    <tr>\n",
              "      <th>3</th>\n",
              "      <td>1</td>\n",
              "      <td>todayinmaker wired 2016 was a pivotal year in ...</td>\n",
              "      <td>573736</td>\n",
              "    </tr>\n",
              "    <tr>\n",
              "      <th>4</th>\n",
              "      <td>1</td>\n",
              "      <td>relay at soynoviodetodas its 2016 and a racist...</td>\n",
              "      <td>466954</td>\n",
              "    </tr>\n",
              "  </tbody>\n",
              "</table>\n",
              "</div>"
            ],
            "text/plain": [
              "   sentiment                                            message  tweetid\n",
              "0          1  polyscimajor epa chief doesnt think carbon dio...   625221\n",
              "1          1  its not like we lack evidence of anthropogenic...   126103\n",
              "2          2  relay at rawstory researchers say we have thre...   698562\n",
              "3          1  todayinmaker wired 2016 was a pivotal year in ...   573736\n",
              "4          1  relay at soynoviodetodas its 2016 and a racist...   466954"
            ]
          },
          "metadata": {
            "tags": []
          },
          "execution_count": 92
        }
      ]
    },
    {
      "cell_type": "markdown",
      "metadata": {
        "id": "KZh1WiiHy8FM",
        "colab_type": "text"
      },
      "source": [
        "#5.Tokenize and Lemmatization"
      ]
    },
    {
      "cell_type": "markdown",
      "metadata": {
        "id": "It16SUnuipqZ",
        "colab_type": "text"
      },
      "source": [
        "Split tweets into individual words via tokenization in the tokens column"
      ]
    },
    {
      "cell_type": "code",
      "metadata": {
        "id": "Eln9Bj8GzDBO",
        "colab_type": "code",
        "colab": {
          "base_uri": "https://localhost:8080/",
          "height": 0
        },
        "outputId": "f59b3e96-1d14-4e02-8bc4-9a0c4ff419dd"
      },
      "source": [
        "tokeniser = TreebankWordTokenizer()\n",
        "df['tokens'] = df['message'].apply(tokeniser.tokenize)\n",
        "df"
      ],
      "execution_count": 93,
      "outputs": [
        {
          "output_type": "execute_result",
          "data": {
            "text/html": [
              "<div>\n",
              "<style scoped>\n",
              "    .dataframe tbody tr th:only-of-type {\n",
              "        vertical-align: middle;\n",
              "    }\n",
              "\n",
              "    .dataframe tbody tr th {\n",
              "        vertical-align: top;\n",
              "    }\n",
              "\n",
              "    .dataframe thead th {\n",
              "        text-align: right;\n",
              "    }\n",
              "</style>\n",
              "<table border=\"1\" class=\"dataframe\">\n",
              "  <thead>\n",
              "    <tr style=\"text-align: right;\">\n",
              "      <th></th>\n",
              "      <th>sentiment</th>\n",
              "      <th>message</th>\n",
              "      <th>tweetid</th>\n",
              "      <th>tokens</th>\n",
              "    </tr>\n",
              "  </thead>\n",
              "  <tbody>\n",
              "    <tr>\n",
              "      <th>0</th>\n",
              "      <td>1</td>\n",
              "      <td>polyscimajor epa chief doesnt think carbon dio...</td>\n",
              "      <td>625221</td>\n",
              "      <td>[polyscimajor, epa, chief, doesnt, think, carb...</td>\n",
              "    </tr>\n",
              "    <tr>\n",
              "      <th>1</th>\n",
              "      <td>1</td>\n",
              "      <td>its not like we lack evidence of anthropogenic...</td>\n",
              "      <td>126103</td>\n",
              "      <td>[its, not, like, we, lack, evidence, of, anthr...</td>\n",
              "    </tr>\n",
              "    <tr>\n",
              "      <th>2</th>\n",
              "      <td>2</td>\n",
              "      <td>relay at rawstory researchers say we have thre...</td>\n",
              "      <td>698562</td>\n",
              "      <td>[relay, at, rawstory, researchers, say, we, ha...</td>\n",
              "    </tr>\n",
              "    <tr>\n",
              "      <th>3</th>\n",
              "      <td>1</td>\n",
              "      <td>todayinmaker wired 2016 was a pivotal year in ...</td>\n",
              "      <td>573736</td>\n",
              "      <td>[todayinmaker, wired, 2016, was, a, pivotal, y...</td>\n",
              "    </tr>\n",
              "    <tr>\n",
              "      <th>4</th>\n",
              "      <td>1</td>\n",
              "      <td>relay at soynoviodetodas its 2016 and a racist...</td>\n",
              "      <td>466954</td>\n",
              "      <td>[relay, at, soynoviodetodas, its, 2016, and, a...</td>\n",
              "    </tr>\n",
              "    <tr>\n",
              "      <th>...</th>\n",
              "      <td>...</td>\n",
              "      <td>...</td>\n",
              "      <td>...</td>\n",
              "      <td>...</td>\n",
              "    </tr>\n",
              "    <tr>\n",
              "      <th>15813</th>\n",
              "      <td>1</td>\n",
              "      <td>relay at thinkprogress epa head falsely claims...</td>\n",
              "      <td>442853</td>\n",
              "      <td>[relay, at, thinkprogress, epa, head, falsely,...</td>\n",
              "    </tr>\n",
              "    <tr>\n",
              "      <th>15814</th>\n",
              "      <td>1</td>\n",
              "      <td>relay at ezlusztig they took down the material...</td>\n",
              "      <td>22001</td>\n",
              "      <td>[relay, at, ezlusztig, they, took, down, the, ...</td>\n",
              "    </tr>\n",
              "    <tr>\n",
              "      <th>15816</th>\n",
              "      <td>0</td>\n",
              "      <td>notiven relay nytimesworld what does trump act...</td>\n",
              "      <td>384248</td>\n",
              "      <td>[notiven, relay, nytimesworld, what, does, tru...</td>\n",
              "    </tr>\n",
              "    <tr>\n",
              "      <th>15817</th>\n",
              "      <td>-1</td>\n",
              "      <td>relay at sara8smiles hey liberals the climate ...</td>\n",
              "      <td>819732</td>\n",
              "      <td>[relay, at, sara8smiles, hey, liberals, the, c...</td>\n",
              "    </tr>\n",
              "    <tr>\n",
              "      <th>15818</th>\n",
              "      <td>0</td>\n",
              "      <td>relay at chet cannon at kurteichenwalds climat...</td>\n",
              "      <td>806319</td>\n",
              "      <td>[relay, at, chet, cannon, at, kurteichenwalds,...</td>\n",
              "    </tr>\n",
              "  </tbody>\n",
              "</table>\n",
              "<p>14229 rows × 4 columns</p>\n",
              "</div>"
            ],
            "text/plain": [
              "       sentiment  ...                                             tokens\n",
              "0              1  ...  [polyscimajor, epa, chief, doesnt, think, carb...\n",
              "1              1  ...  [its, not, like, we, lack, evidence, of, anthr...\n",
              "2              2  ...  [relay, at, rawstory, researchers, say, we, ha...\n",
              "3              1  ...  [todayinmaker, wired, 2016, was, a, pivotal, y...\n",
              "4              1  ...  [relay, at, soynoviodetodas, its, 2016, and, a...\n",
              "...          ...  ...                                                ...\n",
              "15813          1  ...  [relay, at, thinkprogress, epa, head, falsely,...\n",
              "15814          1  ...  [relay, at, ezlusztig, they, took, down, the, ...\n",
              "15816          0  ...  [notiven, relay, nytimesworld, what, does, tru...\n",
              "15817         -1  ...  [relay, at, sara8smiles, hey, liberals, the, c...\n",
              "15818          0  ...  [relay, at, chet, cannon, at, kurteichenwalds,...\n",
              "\n",
              "[14229 rows x 4 columns]"
            ]
          },
          "metadata": {
            "tags": []
          },
          "execution_count": 93
        }
      ]
    },
    {
      "cell_type": "markdown",
      "metadata": {
        "id": "xFgVadWijBaP",
        "colab_type": "text"
      },
      "source": [
        "Perform Lemmatization of tokens to group together the different inflected forms of a word so they can be analysed as a single item"
      ]
    },
    {
      "cell_type": "markdown",
      "metadata": {
        "id": "ZqpfqKshjS0F",
        "colab_type": "text"
      },
      "source": [
        "Function 6 performs lemmatization on tweet tokens"
      ]
    },
    {
      "cell_type": "code",
      "metadata": {
        "id": "3ms9QaNBq_fK",
        "colab_type": "code",
        "colab": {}
      },
      "source": [
        "#Function 6\n",
        "def lemma(text):\n",
        "  lemma = WordNetLemmatizer() \n",
        "  return [lemma.lemmatize(i) for i in text]\n"
      ],
      "execution_count": 94,
      "outputs": []
    },
    {
      "cell_type": "markdown",
      "metadata": {
        "id": "IGEjwO5ijfvm",
        "colab_type": "text"
      },
      "source": [
        "Generate Lemmatization column"
      ]
    },
    {
      "cell_type": "code",
      "metadata": {
        "id": "dQWGoxxGrVnS",
        "colab_type": "code",
        "colab": {
          "base_uri": "https://localhost:8080/",
          "height": 0
        },
        "outputId": "9f6ea8aa-789f-4eff-a057-d80329222bc2"
      },
      "source": [
        "df['lemma'] = df['tokens'].apply(lemma)\n",
        "df.head(5)"
      ],
      "execution_count": 95,
      "outputs": [
        {
          "output_type": "execute_result",
          "data": {
            "text/html": [
              "<div>\n",
              "<style scoped>\n",
              "    .dataframe tbody tr th:only-of-type {\n",
              "        vertical-align: middle;\n",
              "    }\n",
              "\n",
              "    .dataframe tbody tr th {\n",
              "        vertical-align: top;\n",
              "    }\n",
              "\n",
              "    .dataframe thead th {\n",
              "        text-align: right;\n",
              "    }\n",
              "</style>\n",
              "<table border=\"1\" class=\"dataframe\">\n",
              "  <thead>\n",
              "    <tr style=\"text-align: right;\">\n",
              "      <th></th>\n",
              "      <th>sentiment</th>\n",
              "      <th>message</th>\n",
              "      <th>tweetid</th>\n",
              "      <th>tokens</th>\n",
              "      <th>lemma</th>\n",
              "    </tr>\n",
              "  </thead>\n",
              "  <tbody>\n",
              "    <tr>\n",
              "      <th>0</th>\n",
              "      <td>1</td>\n",
              "      <td>polyscimajor epa chief doesnt think carbon dio...</td>\n",
              "      <td>625221</td>\n",
              "      <td>[polyscimajor, epa, chief, doesnt, think, carb...</td>\n",
              "      <td>[polyscimajor, epa, chief, doesnt, think, carb...</td>\n",
              "    </tr>\n",
              "    <tr>\n",
              "      <th>1</th>\n",
              "      <td>1</td>\n",
              "      <td>its not like we lack evidence of anthropogenic...</td>\n",
              "      <td>126103</td>\n",
              "      <td>[its, not, like, we, lack, evidence, of, anthr...</td>\n",
              "      <td>[it, not, like, we, lack, evidence, of, anthro...</td>\n",
              "    </tr>\n",
              "    <tr>\n",
              "      <th>2</th>\n",
              "      <td>2</td>\n",
              "      <td>relay at rawstory researchers say we have thre...</td>\n",
              "      <td>698562</td>\n",
              "      <td>[relay, at, rawstory, researchers, say, we, ha...</td>\n",
              "      <td>[relay, at, rawstory, researcher, say, we, hav...</td>\n",
              "    </tr>\n",
              "    <tr>\n",
              "      <th>3</th>\n",
              "      <td>1</td>\n",
              "      <td>todayinmaker wired 2016 was a pivotal year in ...</td>\n",
              "      <td>573736</td>\n",
              "      <td>[todayinmaker, wired, 2016, was, a, pivotal, y...</td>\n",
              "      <td>[todayinmaker, wired, 2016, wa, a, pivotal, ye...</td>\n",
              "    </tr>\n",
              "    <tr>\n",
              "      <th>4</th>\n",
              "      <td>1</td>\n",
              "      <td>relay at soynoviodetodas its 2016 and a racist...</td>\n",
              "      <td>466954</td>\n",
              "      <td>[relay, at, soynoviodetodas, its, 2016, and, a...</td>\n",
              "      <td>[relay, at, soynoviodetodas, it, 2016, and, a,...</td>\n",
              "    </tr>\n",
              "  </tbody>\n",
              "</table>\n",
              "</div>"
            ],
            "text/plain": [
              "   sentiment  ...                                              lemma\n",
              "0          1  ...  [polyscimajor, epa, chief, doesnt, think, carb...\n",
              "1          1  ...  [it, not, like, we, lack, evidence, of, anthro...\n",
              "2          2  ...  [relay, at, rawstory, researcher, say, we, hav...\n",
              "3          1  ...  [todayinmaker, wired, 2016, wa, a, pivotal, ye...\n",
              "4          1  ...  [relay, at, soynoviodetodas, it, 2016, and, a,...\n",
              "\n",
              "[5 rows x 5 columns]"
            ]
          },
          "metadata": {
            "tags": []
          },
          "execution_count": 95
        }
      ]
    },
    {
      "cell_type": "markdown",
      "metadata": {
        "id": "TwSoS_6Jk9si",
        "colab_type": "text"
      },
      "source": [
        "A new column clean message is generated from the lemma column"
      ]
    },
    {
      "cell_type": "code",
      "metadata": {
        "id": "TZqa3wqNzMhw",
        "colab_type": "code",
        "colab": {
          "base_uri": "https://localhost:8080/",
          "height": 0
        },
        "outputId": "bda8e9a8-b394-4e29-8ebb-658610136d23"
      },
      "source": [
        "# Insert new clean message column\n",
        "df['clean message'] = df['lemma'].apply(lambda i: ' '.join(i))\n",
        "df.head(5)"
      ],
      "execution_count": 96,
      "outputs": [
        {
          "output_type": "execute_result",
          "data": {
            "text/html": [
              "<div>\n",
              "<style scoped>\n",
              "    .dataframe tbody tr th:only-of-type {\n",
              "        vertical-align: middle;\n",
              "    }\n",
              "\n",
              "    .dataframe tbody tr th {\n",
              "        vertical-align: top;\n",
              "    }\n",
              "\n",
              "    .dataframe thead th {\n",
              "        text-align: right;\n",
              "    }\n",
              "</style>\n",
              "<table border=\"1\" class=\"dataframe\">\n",
              "  <thead>\n",
              "    <tr style=\"text-align: right;\">\n",
              "      <th></th>\n",
              "      <th>sentiment</th>\n",
              "      <th>message</th>\n",
              "      <th>tweetid</th>\n",
              "      <th>tokens</th>\n",
              "      <th>lemma</th>\n",
              "      <th>clean message</th>\n",
              "    </tr>\n",
              "  </thead>\n",
              "  <tbody>\n",
              "    <tr>\n",
              "      <th>0</th>\n",
              "      <td>1</td>\n",
              "      <td>polyscimajor epa chief doesnt think carbon dio...</td>\n",
              "      <td>625221</td>\n",
              "      <td>[polyscimajor, epa, chief, doesnt, think, carb...</td>\n",
              "      <td>[polyscimajor, epa, chief, doesnt, think, carb...</td>\n",
              "      <td>polyscimajor epa chief doesnt think carbon dio...</td>\n",
              "    </tr>\n",
              "    <tr>\n",
              "      <th>1</th>\n",
              "      <td>1</td>\n",
              "      <td>its not like we lack evidence of anthropogenic...</td>\n",
              "      <td>126103</td>\n",
              "      <td>[its, not, like, we, lack, evidence, of, anthr...</td>\n",
              "      <td>[it, not, like, we, lack, evidence, of, anthro...</td>\n",
              "      <td>it not like we lack evidence of anthropogenic ...</td>\n",
              "    </tr>\n",
              "    <tr>\n",
              "      <th>2</th>\n",
              "      <td>2</td>\n",
              "      <td>relay at rawstory researchers say we have thre...</td>\n",
              "      <td>698562</td>\n",
              "      <td>[relay, at, rawstory, researchers, say, we, ha...</td>\n",
              "      <td>[relay, at, rawstory, researcher, say, we, hav...</td>\n",
              "      <td>relay at rawstory researcher say we have three...</td>\n",
              "    </tr>\n",
              "    <tr>\n",
              "      <th>3</th>\n",
              "      <td>1</td>\n",
              "      <td>todayinmaker wired 2016 was a pivotal year in ...</td>\n",
              "      <td>573736</td>\n",
              "      <td>[todayinmaker, wired, 2016, was, a, pivotal, y...</td>\n",
              "      <td>[todayinmaker, wired, 2016, wa, a, pivotal, ye...</td>\n",
              "      <td>todayinmaker wired 2016 wa a pivotal year in t...</td>\n",
              "    </tr>\n",
              "    <tr>\n",
              "      <th>4</th>\n",
              "      <td>1</td>\n",
              "      <td>relay at soynoviodetodas its 2016 and a racist...</td>\n",
              "      <td>466954</td>\n",
              "      <td>[relay, at, soynoviodetodas, its, 2016, and, a...</td>\n",
              "      <td>[relay, at, soynoviodetodas, it, 2016, and, a,...</td>\n",
              "      <td>relay at soynoviodetodas it 2016 and a racist ...</td>\n",
              "    </tr>\n",
              "  </tbody>\n",
              "</table>\n",
              "</div>"
            ],
            "text/plain": [
              "   sentiment  ...                                      clean message\n",
              "0          1  ...  polyscimajor epa chief doesnt think carbon dio...\n",
              "1          1  ...  it not like we lack evidence of anthropogenic ...\n",
              "2          2  ...  relay at rawstory researcher say we have three...\n",
              "3          1  ...  todayinmaker wired 2016 wa a pivotal year in t...\n",
              "4          1  ...  relay at soynoviodetodas it 2016 and a racist ...\n",
              "\n",
              "[5 rows x 6 columns]"
            ]
          },
          "metadata": {
            "tags": []
          },
          "execution_count": 96
        }
      ]
    },
    {
      "cell_type": "markdown",
      "metadata": {
        "id": "D9OEg3Qw0ihL",
        "colab_type": "text"
      },
      "source": [
        "#6.Rebalance data"
      ]
    },
    {
      "cell_type": "markdown",
      "metadata": {
        "id": "SK8RhpZjj2io",
        "colab_type": "text"
      },
      "source": [
        "Recap data distribution"
      ]
    },
    {
      "cell_type": "code",
      "metadata": {
        "id": "xDPy37Xlz3Lg",
        "colab_type": "code",
        "colab": {
          "base_uri": "https://localhost:8080/",
          "height": 281
        },
        "outputId": "e30dcd21-05f1-45e2-a9b7-5a0fab40e0a4"
      },
      "source": [
        "sns.barplot(x=sentiment_count,y=sentiment_type)\n",
        "plt.title('Number of Messages per Class')\n",
        "plt.show()"
      ],
      "execution_count": 97,
      "outputs": [
        {
          "output_type": "display_data",
          "data": {
            "image/png": "[encoded data removed]",
            "text/plain": [
              "<Figure size 432x288 with 1 Axes>"
            ]
          },
          "metadata": {
            "tags": [],
            "needs_background": "light"
          }
        }
      ]
    },
    {
      "cell_type": "markdown",
      "metadata": {
        "id": "ny3vLgjRj8d7",
        "colab_type": "text"
      },
      "source": [
        "Data balance can be addressed through resampling, either up or down"
      ]
    },
    {
      "cell_type": "code",
      "metadata": {
        "id": "YQcG92EzEmkC",
        "colab_type": "code",
        "colab": {
          "base_uri": "https://localhost:8080/",
          "height": 34
        },
        "outputId": "52604ca0-ddb3-4980-a620-18ea78558e97"
      },
      "source": [
        "news=df[df['sentiment']==2]\n",
        "pos=df[df['sentiment']==1]\n",
        "neutral=df[df['sentiment']==0]\n",
        "anti=df[df['sentiment']==-1]\n",
        "len(anti)"
      ],
      "execution_count": 98,
      "outputs": [
        {
          "output_type": "execute_result",
          "data": {
            "text/plain": [
              "1221"
            ]
          },
          "metadata": {
            "tags": []
          },
          "execution_count": 98
        }
      ]
    },
    {
      "cell_type": "code",
      "metadata": {
        "id": "lXIBRWxJBUwl",
        "colab_type": "code",
        "colab": {}
      },
      "source": [
        "# Downsample majority\n",
        "#positive_downsampled = resample(pos,replace=False,n_samples=len(anti),random_state=27)\n",
        "positive_downsampled = resample(pos,replace=False,n_samples=(len(anti)),random_state=27)\n",
        "news_downsampled = resample(news,replace=False,n_samples=(len(anti)),random_state=27)\n",
        "neutral_downsampled = resample(neutral,replace=False,n_samples=(len(anti)),random_state=27)\n",
        "# Combine downsampled majority class with minority class\n",
        "#downsampled = pd.concat([positive_downsampled, pos])\n",
        "#len(downsampled)"
      ],
      "execution_count": 99,
      "outputs": []
    },
    {
      "cell_type": "code",
      "metadata": {
        "id": "CO4UyUW8EE7R",
        "colab_type": "code",
        "colab": {}
      },
      "source": [
        "# Upsample minority\n",
        "#neutral_upsampled = resample(neutral,replace=True, n_samples=len(anti),random_state=27) \n",
        "#anti_upsampled = resample(anti,replace=True, n_samples=len(anti),random_state=27)\n",
        "#news_upsampled = resample(anti,replace=True, n_samples=len(news),random_state=27)\n",
        "\n",
        "\n",
        "# Combine upsampled minority class with majority class\n",
        "#upsampled_neutral = pd.concat([neutral_upsampled, neutral])\n",
        "#upsampled_anti = pd.concat([anti_upsampled, anti])\n",
        "#upsampled_news = pd.concat([news_upsampled, news])"
      ],
      "execution_count": 100,
      "outputs": []
    },
    {
      "cell_type": "code",
      "metadata": {
        "id": "JbsJvRwoGOe5",
        "colab_type": "code",
        "colab": {}
      },
      "source": [
        "#x=[len(upsampled_neutral),len(news ),len(positive_downsampled),len(upsampled_anti)]\n",
        "#y#=['neutral','news','positive','anti']\n",
        "\n",
        "#sns.barplot(x,y)\n",
        "#plt.title('Number of Messages per Class')\n",
        "#plt.show()"
      ],
      "execution_count": 101,
      "outputs": []
    },
    {
      "cell_type": "code",
      "metadata": {
        "id": "Rt41M-TyhCyg",
        "colab_type": "code",
        "colab": {}
      },
      "source": [
        "#frames=[positive_downsampled,neutral_downsampled,anti,news_downsampled]\n",
        "#df = pd.concat(frames)"
      ],
      "execution_count": 102,
      "outputs": []
    },
    {
      "cell_type": "code",
      "metadata": {
        "id": "-DmrG9-oAOWX",
        "colab_type": "code",
        "colab": {
          "base_uri": "https://localhost:8080/",
          "height": 34
        },
        "outputId": "af882983-6ac6-4630-cd92-ee10344e4942"
      },
      "source": [
        "len(df)"
      ],
      "execution_count": 103,
      "outputs": [
        {
          "output_type": "execute_result",
          "data": {
            "text/plain": [
              "14229"
            ]
          },
          "metadata": {
            "tags": []
          },
          "execution_count": 103
        }
      ]
    },
    {
      "cell_type": "markdown",
      "metadata": {
        "id": "9-qwhWPtCX5C",
        "colab_type": "text"
      },
      "source": [
        "#7.Model Training and Testing"
      ]
    },
    {
      "cell_type": "markdown",
      "metadata": {
        "id": "MlbNADlNkXnm",
        "colab_type": "text"
      },
      "source": [
        "Function 8 drops column features not needed"
      ]
    },
    {
      "cell_type": "code",
      "metadata": {
        "id": "mDht2tbBCmr-",
        "colab_type": "code",
        "colab": {}
      },
      "source": [
        "#Function 7\n",
        "def drop(df,inputs):\n",
        "  df=df.copy()\n",
        "  df.drop(inputs,axis=1,inplace=True)\n",
        "  return df"
      ],
      "execution_count": 104,
      "outputs": []
    },
    {
      "cell_type": "code",
      "metadata": {
        "id": "97fjmWhB15ED",
        "colab_type": "code",
        "colab": {
          "base_uri": "https://localhost:8080/",
          "height": 204
        },
        "outputId": "bc125c4a-2d32-48a0-b50e-f0dbeec8ef4f"
      },
      "source": [
        "drop_list=['message','tweetid','tokens','lemma']\n",
        "final_df=drop(df,drop_list)\n",
        "final_df.head(5)"
      ],
      "execution_count": 105,
      "outputs": [
        {
          "output_type": "execute_result",
          "data": {
            "text/html": [
              "<div>\n",
              "<style scoped>\n",
              "    .dataframe tbody tr th:only-of-type {\n",
              "        vertical-align: middle;\n",
              "    }\n",
              "\n",
              "    .dataframe tbody tr th {\n",
              "        vertical-align: top;\n",
              "    }\n",
              "\n",
              "    .dataframe thead th {\n",
              "        text-align: right;\n",
              "    }\n",
              "</style>\n",
              "<table border=\"1\" class=\"dataframe\">\n",
              "  <thead>\n",
              "    <tr style=\"text-align: right;\">\n",
              "      <th></th>\n",
              "      <th>sentiment</th>\n",
              "      <th>clean message</th>\n",
              "    </tr>\n",
              "  </thead>\n",
              "  <tbody>\n",
              "    <tr>\n",
              "      <th>0</th>\n",
              "      <td>1</td>\n",
              "      <td>polyscimajor epa chief doesnt think carbon dio...</td>\n",
              "    </tr>\n",
              "    <tr>\n",
              "      <th>1</th>\n",
              "      <td>1</td>\n",
              "      <td>it not like we lack evidence of anthropogenic ...</td>\n",
              "    </tr>\n",
              "    <tr>\n",
              "      <th>2</th>\n",
              "      <td>2</td>\n",
              "      <td>relay at rawstory researcher say we have three...</td>\n",
              "    </tr>\n",
              "    <tr>\n",
              "      <th>3</th>\n",
              "      <td>1</td>\n",
              "      <td>todayinmaker wired 2016 wa a pivotal year in t...</td>\n",
              "    </tr>\n",
              "    <tr>\n",
              "      <th>4</th>\n",
              "      <td>1</td>\n",
              "      <td>relay at soynoviodetodas it 2016 and a racist ...</td>\n",
              "    </tr>\n",
              "  </tbody>\n",
              "</table>\n",
              "</div>"
            ],
            "text/plain": [
              "   sentiment                                      clean message\n",
              "0          1  polyscimajor epa chief doesnt think carbon dio...\n",
              "1          1  it not like we lack evidence of anthropogenic ...\n",
              "2          2  relay at rawstory researcher say we have three...\n",
              "3          1  todayinmaker wired 2016 wa a pivotal year in t...\n",
              "4          1  relay at soynoviodetodas it 2016 and a racist ..."
            ]
          },
          "metadata": {
            "tags": []
          },
          "execution_count": 105
        }
      ]
    },
    {
      "cell_type": "markdown",
      "metadata": {
        "id": "c1u-f3LRIsMT",
        "colab_type": "text"
      },
      "source": [
        "Train/Test Split"
      ]
    },
    {
      "cell_type": "markdown",
      "metadata": {
        "id": "xBPX_4TYlXRa",
        "colab_type": "text"
      },
      "source": [
        "X and y training features split from final_df"
      ]
    },
    {
      "cell_type": "code",
      "metadata": {
        "id": "pUX_Vu05Iuxs",
        "colab_type": "code",
        "colab": {}
      },
      "source": [
        "y=df['sentiment']\n",
        "X=df['clean message']"
      ],
      "execution_count": 106,
      "outputs": []
    },
    {
      "cell_type": "code",
      "metadata": {
        "id": "QMTXTToFJB0L",
        "colab_type": "code",
        "colab": {}
      },
      "source": [
        "X_train, X_test, y_train, y_test = train_test_split(X, y, test_size=0.25, random_state=42)"
      ],
      "execution_count": 107,
      "outputs": []
    },
    {
      "cell_type": "markdown",
      "metadata": {
        "id": "eFAbw5DfEH7e",
        "colab_type": "text"
      },
      "source": [
        "Parameter Search performed using GridSearch.(Takes a while to run, output hardcoded in pipeline.Uncheck to run)"
      ]
    },
    {
      "cell_type": "code",
      "metadata": {
        "id": "bxgtCTwlGccW",
        "colab_type": "code",
        "colab": {}
      },
      "source": [
        "#pipeline = Pipeline([('tfidf', TfidfVectorizer()),('clf', SVC())])\n",
        "#pipeline = Pipeline([('tfidf', TfidfVectorizer(analyzer='word',max_features=5000)),('clf', LinearSVC())])\n",
        "\n",
        "#parameters = {\n",
        " #   'tfidf__max_df': (0.25, 0.5, 0.75),'tfidf__ngram_range': [(1, 1), (1, 2), (1, 3)],\n",
        "   # 'tfidf__max_features':(500,2500,5000),'clf__C':(0.1,1,10),'clf__gamma':(1,0.1,0.001)}\n",
        "\n",
        "#grid_search = GridSearchCV(pipeline, parameters, cv=2, n_jobs=2, verbose=3)\n",
        "#grid_search.fit(X_train, y_train)"
      ],
      "execution_count": 108,
      "outputs": []
    },
    {
      "cell_type": "code",
      "metadata": {
        "id": "ghth-VBNHCP3",
        "colab_type": "code",
        "colab": {}
      },
      "source": [
        "#grid_search.best_params_"
      ],
      "execution_count": 109,
      "outputs": []
    },
    {
      "cell_type": "code",
      "metadata": {
        "id": "_B27NIlmlxhK",
        "colab_type": "code",
        "colab": {
          "base_uri": "https://localhost:8080/",
          "height": 34
        },
        "outputId": "f9985993-570b-49ce-ee9b-855b19029375"
      },
      "source": [
        "#Results of GridSearch\n",
        "print('c=10','gamma=1','max_df=0.25','max_features=5000','ngram=(1,1)')"
      ],
      "execution_count": 110,
      "outputs": [
        {
          "output_type": "stream",
          "text": [
            "c=10 gamma=1 max_df=0.25 max_features=5000 ngram=(1,1)\n"
          ],
          "name": "stdout"
        }
      ]
    },
    {
      "cell_type": "code",
      "metadata": {
        "id": "q3ea2DsgOIU8",
        "colab_type": "code",
        "colab": {}
      },
      "source": [
        "#grid_predictions = grid_search.predict(X_test)"
      ],
      "execution_count": 111,
      "outputs": []
    },
    {
      "cell_type": "markdown",
      "metadata": {
        "id": "TX20urvbmbKg",
        "colab_type": "text"
      },
      "source": [
        "Fitting model with optimized parameters"
      ]
    },
    {
      "cell_type": "code",
      "metadata": {
        "id": "SLN8SKkGpMFZ",
        "colab_type": "code",
        "colab": {}
      },
      "source": [
        "svc = Pipeline([('tfidf', TfidfVectorizer(max_df=0.75,max_features=5000,ngram_range=(1,1))),('clf', SVC(C=10,gamma=1))])\n",
        "\n",
        "#train model\n",
        "model=svc.fit(X_train, y_train)\n",
        "\n",
        "# Form a prediction set\n",
        "predictions = model.predict(X_test)"
      ],
      "execution_count": 112,
      "outputs": []
    },
    {
      "cell_type": "code",
      "metadata": {
        "id": "LxSSp02OO5Qp",
        "colab_type": "code",
        "colab": {
          "base_uri": "https://localhost:8080/",
          "height": 391
        },
        "outputId": "6173f940-df11-419f-94ce-0a1067ecb1ea"
      },
      "source": [
        "print('Confusion Matrix')\n",
        "print('')\n",
        "print(confusion_matrix(y_test,predictions))\n",
        "print('')\n",
        "print('Classification Report')\n",
        "print('')\n",
        "print(classification_report(y_test,predictions))\n",
        "print('')\n",
        "print('The model accuracy is :',accuracy_score(y_test,predictions))"
      ],
      "execution_count": 113,
      "outputs": [
        {
          "output_type": "stream",
          "text": [
            "Confusion Matrix\n",
            "\n",
            "[[ 115   40  146   10]\n",
            " [  31  182  309   38]\n",
            " [  16   80 1569  130]\n",
            " [   1    5  190  696]]\n",
            "\n",
            "Classification Report\n",
            "\n",
            "              precision    recall  f1-score   support\n",
            "\n",
            "          -1       0.71      0.37      0.49       311\n",
            "           0       0.59      0.33      0.42       560\n",
            "           1       0.71      0.87      0.78      1795\n",
            "           2       0.80      0.78      0.79       892\n",
            "\n",
            "    accuracy                           0.72      3558\n",
            "   macro avg       0.70      0.59      0.62      3558\n",
            "weighted avg       0.71      0.72      0.70      3558\n",
            "\n",
            "\n",
            "The model accuracy is : 0.7200674536256324\n"
          ],
          "name": "stdout"
        }
      ]
    },
    {
      "cell_type": "markdown",
      "metadata": {
        "id": "I8n10NgBoQg_",
        "colab_type": "text"
      },
      "source": [
        "Save model as pickle"
      ]
    },
    {
      "cell_type": "code",
      "metadata": {
        "id": "qMQX7OQnK9GK",
        "colab_type": "code",
        "colab": {}
      },
      "source": [
        "import pickle\n",
        "model_save_path = \"SVC.pkl\"\n",
        "with open(model_save_path,'wb') as file:\n",
        "    pickle.dump(svc,file)"
      ],
      "execution_count": 114,
      "outputs": []
    },
    {
      "cell_type": "markdown",
      "metadata": {
        "id": "9ueXeWJSQF1Z",
        "colab_type": "text"
      },
      "source": [
        "#8.Test"
      ]
    },
    {
      "cell_type": "markdown",
      "metadata": {
        "id": "qOOrWKoaoeol",
        "colab_type": "text"
      },
      "source": [
        "Perform data preparation (Section 3) on test dataframe"
      ]
    },
    {
      "cell_type": "code",
      "metadata": {
        "colab_type": "code",
        "id": "o8smVQ6DLddB",
        "colab": {}
      },
      "source": [
        "test['message']=test['message'].apply(clean) #clean data\n",
        "test['message']=test['message'].apply(rm_punc) #remove punctuation\n",
        "test['message']=test['message'].apply(at) #replace @\n",
        "test['message']=test['message'].apply(hashtag) #remove #"
      ],
      "execution_count": 115,
      "outputs": []
    },
    {
      "cell_type": "code",
      "metadata": {
        "id": "K-FGpTUtMAOX",
        "colab_type": "code",
        "colab": {}
      },
      "source": [
        "#Tokenize messages\n",
        "tokeniser = TreebankWordTokenizer()\n",
        "test['tokens'] = test['message'].apply(tokeniser.tokenize)"
      ],
      "execution_count": 116,
      "outputs": []
    },
    {
      "cell_type": "code",
      "metadata": {
        "colab_type": "code",
        "id": "YDNFiLGPR4Ag",
        "colab": {}
      },
      "source": [
        "#Lemmatize tokens column\n",
        "test['lemma'] = test['tokens'].apply(lemma)"
      ],
      "execution_count": 117,
      "outputs": []
    },
    {
      "cell_type": "code",
      "metadata": {
        "colab_type": "code",
        "id": "vmt7iJiWR4BI",
        "colab": {}
      },
      "source": [
        "# Generate clean message column\n",
        "test['clean message'] = test['lemma'].apply(lambda i: ' '.join(i))"
      ],
      "execution_count": 118,
      "outputs": []
    },
    {
      "cell_type": "code",
      "metadata": {
        "colab_type": "code",
        "id": "SPlNmO4AMkIs",
        "colab": {}
      },
      "source": [
        "#Drop columns not needed for predictions\n",
        "drop_list=['message','tokens','lemma']\n",
        "final_test=drop(test,drop_list)"
      ],
      "execution_count": 119,
      "outputs": []
    },
    {
      "cell_type": "markdown",
      "metadata": {
        "id": "95YXnQd7pVfP",
        "colab_type": "text"
      },
      "source": [
        "Final Dataframe format for kaggle prediction"
      ]
    },
    {
      "cell_type": "code",
      "metadata": {
        "id": "_yAzde6pphvi",
        "colab_type": "code",
        "colab": {
          "base_uri": "https://localhost:8080/",
          "height": 0
        },
        "outputId": "89d34b71-57d8-489c-9bd4-f4cd5d5afbc0"
      },
      "source": [
        "final_test"
      ],
      "execution_count": 120,
      "outputs": [
        {
          "output_type": "execute_result",
          "data": {
            "text/html": [
              "<div>\n",
              "<style scoped>\n",
              "    .dataframe tbody tr th:only-of-type {\n",
              "        vertical-align: middle;\n",
              "    }\n",
              "\n",
              "    .dataframe tbody tr th {\n",
              "        vertical-align: top;\n",
              "    }\n",
              "\n",
              "    .dataframe thead th {\n",
              "        text-align: right;\n",
              "    }\n",
              "</style>\n",
              "<table border=\"1\" class=\"dataframe\">\n",
              "  <thead>\n",
              "    <tr style=\"text-align: right;\">\n",
              "      <th></th>\n",
              "      <th>tweetid</th>\n",
              "      <th>clean message</th>\n",
              "    </tr>\n",
              "  </thead>\n",
              "  <tbody>\n",
              "    <tr>\n",
              "      <th>0</th>\n",
              "      <td>169760</td>\n",
              "      <td>europe will now be looking to china to make su...</td>\n",
              "    </tr>\n",
              "    <tr>\n",
              "      <th>1</th>\n",
              "      <td>35326</td>\n",
              "      <td>combine this with the polling of staffer re cl...</td>\n",
              "    </tr>\n",
              "    <tr>\n",
              "      <th>2</th>\n",
              "      <td>224985</td>\n",
              "      <td>the scary unimpeachable evidence that climate ...</td>\n",
              "    </tr>\n",
              "    <tr>\n",
              "      <th>3</th>\n",
              "      <td>476263</td>\n",
              "      <td>at karoli at morgfair at osborneink at dailyko...</td>\n",
              "    </tr>\n",
              "    <tr>\n",
              "      <th>4</th>\n",
              "      <td>872928</td>\n",
              "      <td>relay at fakewillmoore female orgasm cause glo...</td>\n",
              "    </tr>\n",
              "    <tr>\n",
              "      <th>...</th>\n",
              "      <td>...</td>\n",
              "      <td>...</td>\n",
              "    </tr>\n",
              "    <tr>\n",
              "      <th>10541</th>\n",
              "      <td>895714</td>\n",
              "      <td>relay at brittanybohrer brb writing a poem abo...</td>\n",
              "    </tr>\n",
              "    <tr>\n",
              "      <th>10542</th>\n",
              "      <td>875167</td>\n",
              "      <td>2016 the year climate change came home during ...</td>\n",
              "    </tr>\n",
              "    <tr>\n",
              "      <th>10543</th>\n",
              "      <td>78329</td>\n",
              "      <td>relay at loop vanuatu pacific country positive...</td>\n",
              "    </tr>\n",
              "    <tr>\n",
              "      <th>10544</th>\n",
              "      <td>867455</td>\n",
              "      <td>relay at xanria 00018 you ’ re so hot you must...</td>\n",
              "    </tr>\n",
              "    <tr>\n",
              "      <th>10545</th>\n",
              "      <td>470892</td>\n",
              "      <td>relay at chloebalaoing climate change is a glo...</td>\n",
              "    </tr>\n",
              "  </tbody>\n",
              "</table>\n",
              "<p>10546 rows × 2 columns</p>\n",
              "</div>"
            ],
            "text/plain": [
              "       tweetid                                      clean message\n",
              "0       169760  europe will now be looking to china to make su...\n",
              "1        35326  combine this with the polling of staffer re cl...\n",
              "2       224985  the scary unimpeachable evidence that climate ...\n",
              "3       476263  at karoli at morgfair at osborneink at dailyko...\n",
              "4       872928  relay at fakewillmoore female orgasm cause glo...\n",
              "...        ...                                                ...\n",
              "10541   895714  relay at brittanybohrer brb writing a poem abo...\n",
              "10542   875167  2016 the year climate change came home during ...\n",
              "10543    78329  relay at loop vanuatu pacific country positive...\n",
              "10544   867455  relay at xanria 00018 you ’ re so hot you must...\n",
              "10545   470892  relay at chloebalaoing climate change is a glo...\n",
              "\n",
              "[10546 rows x 2 columns]"
            ]
          },
          "metadata": {
            "tags": []
          },
          "execution_count": 120
        }
      ]
    },
    {
      "cell_type": "markdown",
      "metadata": {
        "id": "7Ma8p7BPpmap",
        "colab_type": "text"
      },
      "source": [
        "Load model pickle to make predictions"
      ]
    },
    {
      "cell_type": "code",
      "metadata": {
        "id": "0su9E-rpM45I",
        "colab_type": "code",
        "colab": {}
      },
      "source": [
        "model_load_path = \"SVC.pkl\"\n",
        "with open(model_load_path,'rb') as file:\n",
        "    pickle_rick = pickle.load(file)"
      ],
      "execution_count": 121,
      "outputs": []
    },
    {
      "cell_type": "code",
      "metadata": {
        "id": "Zd0xoV9UNZZR",
        "colab_type": "code",
        "colab": {}
      },
      "source": [
        "kaggle_predictions = pickle_rick.predict(final_test['clean message'])\n",
        "kaggle_predictions = pd.DataFrame(kaggle_predictions)\n",
        "kaggle_predictions.rename(columns={0: \"sentiment\"}, inplace=True)\n",
        "kaggle_predictions[\"tweetid\"] = test['tweetid']\n",
        "cols = ['tweetid','sentiment']\n",
        "kaggle_predictions = kaggle_predictions[cols]"
      ],
      "execution_count": 122,
      "outputs": []
    },
    {
      "cell_type": "markdown",
      "metadata": {
        "id": "a7ot65fXpvOK",
        "colab_type": "text"
      },
      "source": [
        "Write predictions to upload_kaggle_pred.csv"
      ]
    },
    {
      "cell_type": "code",
      "metadata": {
        "id": "0NRD1pBrPpU_",
        "colab_type": "code",
        "colab": {}
      },
      "source": [
        "kaggle_predictions.to_csv(path_or_buf='/content/upload_kaggle_pred.csv',index=False)"
      ],
      "execution_count": 123,
      "outputs": []
    }
  ]
}