{
  "nbformat": 4,
  "nbformat_minor": 0,
  "metadata": {
    "kernelspec": {
      "display_name": "Python 3",
      "language": "python",
      "name": "python3"
    },
    "language_info": {
      "codemirror_mode": {
        "name": "ipython",
        "version": 3
      },
      "file_extension": ".py",
      "mimetype": "text/x-python",
      "name": "python",
      "nbconvert_exporter": "python",
      "pygments_lexer": "ipython3",
      "version": "3.7.6"
    },
    "colab": {
      "name": "Classification Predict.ipynb",
      "provenance": [],
      "collapsed_sections": []
    }
  },
  "cells": [
    {
      "cell_type": "markdown",
      "metadata": {
        "id": "zM7UvWy5Ef98",
        "colab_type": "text"
      },
      "source": [
        "# Classification Predict"
      ]
    },
    {
      "cell_type": "markdown",
      "metadata": {
        "id": "d_prufddEf-C",
        "colab_type": "text"
      },
      "source": [
        "##Problem statement"
      ]
    },
    {
      "cell_type": "markdown",
      "metadata": {
        "id": "x8XvQ7ZMa7LX",
        "colab_type": "text"
      },
      "source": [
        "###Background\n",
        "Many companies are built around lessening one’s environmental impact or carbon footprint. They offer products and services that are environmentally friendly and sustainable, in line with their values and ideals. They would like to determine how people perceive climate change and whether or not they believe it is a real threat.\n",
        "\n",
        "### Problem Statement\n",
        "Create a Machine Learning model that is able to classify whether or not a person believes in climate change, based on their novel tweet data."
      ]
    },
    {
      "cell_type": "markdown",
      "metadata": {
        "id": "TQM7DNReEf-N",
        "colab_type": "text"
      },
      "source": [
        "## Importing the libraries"
      ]
    },
    {
      "cell_type": "code",
      "metadata": {
        "id": "dXg7CsL7Ef-S",
        "colab_type": "code",
        "colab": {
          "base_uri": "https://localhost:8080/",
          "height": 953
        },
        "outputId": "4145a788-5d77-4868-bf6f-9436e0aa5f9a"
      },
      "source": [
        "# Analysis Libraries\n",
        "import pandas as pd\n",
        "import numpy as np\n",
        "\n",
        "# Visualisation Libraries\n",
        "import matplotlib.pyplot as plt\n",
        "import seaborn as sns\n",
        "sns.set_style(\"whitegrid\")\n",
        "from wordcloud import WordCloud, STOPWORDS, ImageColorGenerator\n",
        "from PIL import Image\n",
        "\n",
        "# Language Processsing Libraries\n",
        "import nltk\n",
        "nltk.download(['punkt','stopwords'])\n",
        "nltk.download('vader_lexicon')\n",
        "nltk.download('popular')\n",
        "from sklearn.utils import resample\n",
        "from nltk.stem import WordNetLemmatizer \n",
        "from nltk.tokenize import sent_tokenize, word_tokenize\n",
        "from nltk.tokenize import word_tokenize, TreebankWordTokenizer \n",
        "import re\n",
        "import string\n",
        "from nltk import SnowballStemmer\n",
        "\n",
        "# ML Libraries\n",
        "from sklearn.pipeline import Pipeline\n",
        "from sklearn.svm import LinearSVC,SVC\n",
        "from sklearn.model_selection import train_test_split, GridSearchCV\n",
        "from sklearn.metrics import classification_report,confusion_matrix,accuracy_score,recall_score,precision_score\n",
        "from sklearn.feature_extraction.text import TfidfVectorizer\n",
        "from sklearn import metrics\n",
        "from nltk import SnowballStemmer\n",
        "\n",
        "# Code for hiding seaborn warnings\n",
        "import warnings\n",
        "warnings.filterwarnings(\"ignore\")"
      ],
      "execution_count": 418,
      "outputs": [
        {
          "output_type": "stream",
          "text": [
            "[nltk_data] Downloading package punkt to /root/nltk_data...\n",
            "[nltk_data]   Package punkt is already up-to-date!\n",
            "[nltk_data] Downloading package stopwords to /root/nltk_data...\n",
            "[nltk_data]   Package stopwords is already up-to-date!\n",
            "[nltk_data] Downloading package vader_lexicon to /root/nltk_data...\n",
            "[nltk_data]   Package vader_lexicon is already up-to-date!\n",
            "[nltk_data] Downloading collection 'popular'\n",
            "[nltk_data]    | \n",
            "[nltk_data]    | Downloading package cmudict to /root/nltk_data...\n",
            "[nltk_data]    |   Package cmudict is already up-to-date!\n",
            "[nltk_data]    | Downloading package gazetteers to /root/nltk_data...\n",
            "[nltk_data]    |   Package gazetteers is already up-to-date!\n",
            "[nltk_data]    | Downloading package genesis to /root/nltk_data...\n",
            "[nltk_data]    |   Package genesis is already up-to-date!\n",
            "[nltk_data]    | Downloading package gutenberg to /root/nltk_data...\n",
            "[nltk_data]    |   Package gutenberg is already up-to-date!\n",
            "[nltk_data]    | Downloading package inaugural to /root/nltk_data...\n",
            "[nltk_data]    |   Package inaugural is already up-to-date!\n",
            "[nltk_data]    | Downloading package movie_reviews to\n",
            "[nltk_data]    |     /root/nltk_data...\n",
            "[nltk_data]    |   Package movie_reviews is already up-to-date!\n",
            "[nltk_data]    | Downloading package names to /root/nltk_data...\n",
            "[nltk_data]    |   Package names is already up-to-date!\n",
            "[nltk_data]    | Downloading package shakespeare to /root/nltk_data...\n",
            "[nltk_data]    |   Package shakespeare is already up-to-date!\n",
            "[nltk_data]    | Downloading package stopwords to /root/nltk_data...\n",
            "[nltk_data]    |   Package stopwords is already up-to-date!\n",
            "[nltk_data]    | Downloading package treebank to /root/nltk_data...\n",
            "[nltk_data]    |   Package treebank is already up-to-date!\n",
            "[nltk_data]    | Downloading package twitter_samples to\n",
            "[nltk_data]    |     /root/nltk_data...\n",
            "[nltk_data]    |   Package twitter_samples is already up-to-date!\n",
            "[nltk_data]    | Downloading package omw to /root/nltk_data...\n",
            "[nltk_data]    |   Package omw is already up-to-date!\n",
            "[nltk_data]    | Downloading package wordnet to /root/nltk_data...\n",
            "[nltk_data]    |   Package wordnet is already up-to-date!\n",
            "[nltk_data]    | Downloading package wordnet_ic to /root/nltk_data...\n",
            "[nltk_data]    |   Package wordnet_ic is already up-to-date!\n",
            "[nltk_data]    | Downloading package words to /root/nltk_data...\n",
            "[nltk_data]    |   Package words is already up-to-date!\n",
            "[nltk_data]    | Downloading package maxent_ne_chunker to\n",
            "[nltk_data]    |     /root/nltk_data...\n",
            "[nltk_data]    |   Package maxent_ne_chunker is already up-to-date!\n",
            "[nltk_data]    | Downloading package punkt to /root/nltk_data...\n",
            "[nltk_data]    |   Package punkt is already up-to-date!\n",
            "[nltk_data]    | Downloading package snowball_data to\n",
            "[nltk_data]    |     /root/nltk_data...\n",
            "[nltk_data]    |   Package snowball_data is already up-to-date!\n",
            "[nltk_data]    | Downloading package averaged_perceptron_tagger to\n",
            "[nltk_data]    |     /root/nltk_data...\n",
            "[nltk_data]    |   Package averaged_perceptron_tagger is already up-\n",
            "[nltk_data]    |       to-date!\n",
            "[nltk_data]    | \n",
            "[nltk_data]  Done downloading collection popular\n"
          ],
          "name": "stdout"
        }
      ]
    },
    {
      "cell_type": "markdown",
      "metadata": {
        "id": "um1v4l5REf-m",
        "colab_type": "text"
      },
      "source": [
        "## Load Data"
      ]
    },
    {
      "cell_type": "markdown",
      "metadata": {
        "id": "fiwOOm-WdMdh",
        "colab_type": "text"
      },
      "source": [
        "X_df DataFrame contains three columns; sentiment, message and tweetid"
      ]
    },
    {
      "cell_type": "code",
      "metadata": {
        "id": "nxsMfrfmEf-p",
        "colab_type": "code",
        "colab": {
          "base_uri": "https://localhost:8080/",
          "height": 202
        },
        "outputId": "11abcb68-9554-4193-857f-19f012cbda87"
      },
      "source": [
        "X_df = pd.read_csv('train.csv')\n",
        "X_df.head(5)"
      ],
      "execution_count": 419,
      "outputs": [
        {
          "output_type": "execute_result",
          "data": {
            "text/html": [
              "<div>\n",
              "<style scoped>\n",
              "    .dataframe tbody tr th:only-of-type {\n",
              "        vertical-align: middle;\n",
              "    }\n",
              "\n",
              "    .dataframe tbody tr th {\n",
              "        vertical-align: top;\n",
              "    }\n",
              "\n",
              "    .dataframe thead th {\n",
              "        text-align: right;\n",
              "    }\n",
              "</style>\n",
              "<table border=\"1\" class=\"dataframe\">\n",
              "  <thead>\n",
              "    <tr style=\"text-align: right;\">\n",
              "      <th></th>\n",
              "      <th>sentiment</th>\n",
              "      <th>message</th>\n",
              "      <th>tweetid</th>\n",
              "    </tr>\n",
              "  </thead>\n",
              "  <tbody>\n",
              "    <tr>\n",
              "      <th>0</th>\n",
              "      <td>1</td>\n",
              "      <td>PolySciMajor EPA chief doesn't think carbon di...</td>\n",
              "      <td>625221</td>\n",
              "    </tr>\n",
              "    <tr>\n",
              "      <th>1</th>\n",
              "      <td>1</td>\n",
              "      <td>It's not like we lack evidence of anthropogeni...</td>\n",
              "      <td>126103</td>\n",
              "    </tr>\n",
              "    <tr>\n",
              "      <th>2</th>\n",
              "      <td>2</td>\n",
              "      <td>RT @RawStory: Researchers say we have three ye...</td>\n",
              "      <td>698562</td>\n",
              "    </tr>\n",
              "    <tr>\n",
              "      <th>3</th>\n",
              "      <td>1</td>\n",
              "      <td>#TodayinMaker# WIRED : 2016 was a pivotal year...</td>\n",
              "      <td>573736</td>\n",
              "    </tr>\n",
              "    <tr>\n",
              "      <th>4</th>\n",
              "      <td>1</td>\n",
              "      <td>RT @SoyNovioDeTodas: It's 2016, and a racist, ...</td>\n",
              "      <td>466954</td>\n",
              "    </tr>\n",
              "  </tbody>\n",
              "</table>\n",
              "</div>"
            ],
            "text/plain": [
              "   sentiment                                            message  tweetid\n",
              "0          1  PolySciMajor EPA chief doesn't think carbon di...   625221\n",
              "1          1  It's not like we lack evidence of anthropogeni...   126103\n",
              "2          2  RT @RawStory: Researchers say we have three ye...   698562\n",
              "3          1  #TodayinMaker# WIRED : 2016 was a pivotal year...   573736\n",
              "4          1  RT @SoyNovioDeTodas: It's 2016, and a racist, ...   466954"
            ]
          },
          "metadata": {
            "tags": []
          },
          "execution_count": 419
        }
      ]
    },
    {
      "cell_type": "code",
      "metadata": {
        "id": "Rut0v9toGUnj",
        "colab_type": "code",
        "colab": {
          "base_uri": "https://localhost:8080/",
          "height": 190
        },
        "outputId": "328856c9-2e96-4596-be0c-07865de65553"
      },
      "source": [
        "# inspect structure of dataset\n",
        "X_df.info()"
      ],
      "execution_count": 420,
      "outputs": [
        {
          "output_type": "stream",
          "text": [
            "<class 'pandas.core.frame.DataFrame'>\n",
            "RangeIndex: 15819 entries, 0 to 15818\n",
            "Data columns (total 3 columns):\n",
            " #   Column     Non-Null Count  Dtype \n",
            "---  ------     --------------  ----- \n",
            " 0   sentiment  15819 non-null  int64 \n",
            " 1   message    15819 non-null  object\n",
            " 2   tweetid    15819 non-null  int64 \n",
            "dtypes: int64(2), object(1)\n",
            "memory usage: 370.9+ KB\n"
          ],
          "name": "stdout"
        }
      ]
    },
    {
      "cell_type": "markdown",
      "metadata": {
        "id": "H2gOns2rEf-y",
        "colab_type": "text"
      },
      "source": [
        "## Exploratory Data Analysis"
      ]
    },
    {
      "cell_type": "markdown",
      "metadata": {
        "id": "TeeJ9pdjHTaE",
        "colab_type": "text"
      },
      "source": [
        "A check for uniqueness indicates that the message column has over 1000 duplicates due to repeated tweetids. This should be removed as to not train the model on repeated data.\n"
      ]
    },
    {
      "cell_type": "code",
      "metadata": {
        "id": "YP1ss4X1HfeG",
        "colab_type": "code",
        "colab": {
          "base_uri": "https://localhost:8080/",
          "height": 141
        },
        "outputId": "bb26fcc2-58f9-4d6b-a67c-46cd6540a0d3"
      },
      "source": [
        "number_of_unique=[X_df[i].nunique() for i in X_df.columns]\n",
        "column_names=[i for i in X_df.columns]\n",
        "unique_zip=list(zip(column_names,number_of_unique))\n",
        "unique_df=pd.DataFrame(unique_zip,columns=['Column_Feature','Unique_Values'])\n",
        "unique_df"
      ],
      "execution_count": 421,
      "outputs": [
        {
          "output_type": "execute_result",
          "data": {
            "text/html": [
              "<div>\n",
              "<style scoped>\n",
              "    .dataframe tbody tr th:only-of-type {\n",
              "        vertical-align: middle;\n",
              "    }\n",
              "\n",
              "    .dataframe tbody tr th {\n",
              "        vertical-align: top;\n",
              "    }\n",
              "\n",
              "    .dataframe thead th {\n",
              "        text-align: right;\n",
              "    }\n",
              "</style>\n",
              "<table border=\"1\" class=\"dataframe\">\n",
              "  <thead>\n",
              "    <tr style=\"text-align: right;\">\n",
              "      <th></th>\n",
              "      <th>Column_Feature</th>\n",
              "      <th>Unique_Values</th>\n",
              "    </tr>\n",
              "  </thead>\n",
              "  <tbody>\n",
              "    <tr>\n",
              "      <th>0</th>\n",
              "      <td>sentiment</td>\n",
              "      <td>4</td>\n",
              "    </tr>\n",
              "    <tr>\n",
              "      <th>1</th>\n",
              "      <td>message</td>\n",
              "      <td>14229</td>\n",
              "    </tr>\n",
              "    <tr>\n",
              "      <th>2</th>\n",
              "      <td>tweetid</td>\n",
              "      <td>15819</td>\n",
              "    </tr>\n",
              "  </tbody>\n",
              "</table>\n",
              "</div>"
            ],
            "text/plain": [
              "  Column_Feature  Unique_Values\n",
              "0      sentiment              4\n",
              "1        message          14229\n",
              "2        tweetid          15819"
            ]
          },
          "metadata": {
            "tags": []
          },
          "execution_count": 421
        }
      ]
    },
    {
      "cell_type": "code",
      "metadata": {
        "id": "K-JmG9HwICiD",
        "colab_type": "code",
        "colab": {}
      },
      "source": [
        "# A function to remove duplicate rows from the message column\n",
        "\n",
        "def delete_dup(df):\n",
        "  df=df.copy()\n",
        "  df = df.drop_duplicates(subset='message') #messges specified as subset to evaluate\n",
        "  return df"
      ],
      "execution_count": 422,
      "outputs": []
    },
    {
      "cell_type": "code",
      "metadata": {
        "id": "LgU_h_tlYloS",
        "colab_type": "code",
        "colab": {}
      },
      "source": [
        "X_df=delete_dup(X_df)"
      ],
      "execution_count": 423,
      "outputs": []
    },
    {
      "cell_type": "code",
      "metadata": {
        "id": "f-pzMX5QB6BR",
        "colab_type": "code",
        "colab": {
          "base_uri": "https://localhost:8080/",
          "height": 141
        },
        "outputId": "5dc77af3-42b6-4497-c111-2ea131fce640"
      },
      "source": [
        "# Recheck for duplicates\n",
        "number_of_unique=[X_df[i].nunique() for i in X_df.columns]\n",
        "unique_df=pd.DataFrame(unique_zip,columns=['Column_Feature','Unique_Values'])\n",
        "unique_df"
      ],
      "execution_count": 424,
      "outputs": [
        {
          "output_type": "execute_result",
          "data": {
            "text/html": [
              "<div>\n",
              "<style scoped>\n",
              "    .dataframe tbody tr th:only-of-type {\n",
              "        vertical-align: middle;\n",
              "    }\n",
              "\n",
              "    .dataframe tbody tr th {\n",
              "        vertical-align: top;\n",
              "    }\n",
              "\n",
              "    .dataframe thead th {\n",
              "        text-align: right;\n",
              "    }\n",
              "</style>\n",
              "<table border=\"1\" class=\"dataframe\">\n",
              "  <thead>\n",
              "    <tr style=\"text-align: right;\">\n",
              "      <th></th>\n",
              "      <th>Column_Feature</th>\n",
              "      <th>Unique_Values</th>\n",
              "    </tr>\n",
              "  </thead>\n",
              "  <tbody>\n",
              "    <tr>\n",
              "      <th>0</th>\n",
              "      <td>sentiment</td>\n",
              "      <td>4</td>\n",
              "    </tr>\n",
              "    <tr>\n",
              "      <th>1</th>\n",
              "      <td>message</td>\n",
              "      <td>14229</td>\n",
              "    </tr>\n",
              "    <tr>\n",
              "      <th>2</th>\n",
              "      <td>tweetid</td>\n",
              "      <td>15819</td>\n",
              "    </tr>\n",
              "  </tbody>\n",
              "</table>\n",
              "</div>"
            ],
            "text/plain": [
              "  Column_Feature  Unique_Values\n",
              "0      sentiment              4\n",
              "1        message          14229\n",
              "2        tweetid          15819"
            ]
          },
          "metadata": {
            "tags": []
          },
          "execution_count": 424
        }
      ]
    },
    {
      "cell_type": "markdown",
      "metadata": {
        "id": "vhBCHF2rEf-z",
        "colab_type": "text"
      },
      "source": [
        "In order to give our graphs more context, we have added the text version of the sentiment to the train DataFrame. These new columns will be deleted as they do not assist in the actual classification problem."
      ]
    },
    {
      "cell_type": "code",
      "metadata": {
        "id": "6dAt9DuxEf-0",
        "colab_type": "code",
        "colab": {}
      },
      "source": [
        "# A function to add the text version of 'sentiment'. This is just for graphing purposes\n",
        "# and should be droped.\n",
        "def add_text_sent(df):\n",
        "    # Copy the input DataFrame\n",
        "    out_df = df.copy()\n",
        "    \n",
        "    sentiment_text = []\n",
        "    \n",
        "    # Loop though the sentiments and assign the text version. \n",
        "    # Pro: 1, News: 2, Neutral: 0, Anti: -1\n",
        "    for sent in df['sentiment']:\n",
        "        \n",
        "        if sent == 1:\n",
        "            sentiment_text.append('Pro')\n",
        "            \n",
        "        elif sent == 2:\n",
        "            sentiment_text.append('News')\n",
        "            \n",
        "        elif sent == 0:\n",
        "            sentiment_text.append('Neutral')\n",
        "            \n",
        "        elif sent == -1:\n",
        "            sentiment_text.append('Anti')\n",
        "            \n",
        "    out_df['sentiment_text'] = sentiment_text\n",
        "    \n",
        "    out_df.drop(['message', 'tweetid'], axis = 1, inplace = True)\n",
        "        \n",
        "    return out_df"
      ],
      "execution_count": 425,
      "outputs": []
    },
    {
      "cell_type": "code",
      "metadata": {
        "id": "0SMy7WqdEf-8",
        "colab_type": "code",
        "colab": {}
      },
      "source": [
        "# Function to arrange the DataFrame to show percentage of classes\n",
        "def class_table(df):\n",
        "    out_df = df.groupby(['sentiment_text']).count()\n",
        "    \n",
        "    class_perc = [round(100 * x / len(df), 1) for x in out_df['sentiment']]\n",
        "    \n",
        "    out_df['% of Total Classes'] = class_perc\n",
        "    \n",
        "    return out_df"
      ],
      "execution_count": 426,
      "outputs": []
    },
    {
      "cell_type": "code",
      "metadata": {
        "id": "OpJV8icrEf_C",
        "colab_type": "code",
        "colab": {
          "base_uri": "https://localhost:8080/",
          "height": 202
        },
        "outputId": "3857cd58-505c-4e0c-f174-440f2c475e8b"
      },
      "source": [
        "# Create a new DataFrame for graphing purposes. Show the sentiment classes as a \n",
        "# percentage.\n",
        "new_X_df = add_text_sent(X_df)\n",
        "new_X_df_t = class_table(new_X_df)\n",
        "new_X_df_t"
      ],
      "execution_count": 427,
      "outputs": [
        {
          "output_type": "execute_result",
          "data": {
            "text/html": [
              "<div>\n",
              "<style scoped>\n",
              "    .dataframe tbody tr th:only-of-type {\n",
              "        vertical-align: middle;\n",
              "    }\n",
              "\n",
              "    .dataframe tbody tr th {\n",
              "        vertical-align: top;\n",
              "    }\n",
              "\n",
              "    .dataframe thead th {\n",
              "        text-align: right;\n",
              "    }\n",
              "</style>\n",
              "<table border=\"1\" class=\"dataframe\">\n",
              "  <thead>\n",
              "    <tr style=\"text-align: right;\">\n",
              "      <th></th>\n",
              "      <th>sentiment</th>\n",
              "      <th>% of Total Classes</th>\n",
              "    </tr>\n",
              "    <tr>\n",
              "      <th>sentiment_text</th>\n",
              "      <th></th>\n",
              "      <th></th>\n",
              "    </tr>\n",
              "  </thead>\n",
              "  <tbody>\n",
              "    <tr>\n",
              "      <th>Anti</th>\n",
              "      <td>1221</td>\n",
              "      <td>8.6</td>\n",
              "    </tr>\n",
              "    <tr>\n",
              "      <th>Neutral</th>\n",
              "      <td>2244</td>\n",
              "      <td>15.8</td>\n",
              "    </tr>\n",
              "    <tr>\n",
              "      <th>News</th>\n",
              "      <td>3542</td>\n",
              "      <td>24.9</td>\n",
              "    </tr>\n",
              "    <tr>\n",
              "      <th>Pro</th>\n",
              "      <td>7222</td>\n",
              "      <td>50.8</td>\n",
              "    </tr>\n",
              "  </tbody>\n",
              "</table>\n",
              "</div>"
            ],
            "text/plain": [
              "                sentiment  % of Total Classes\n",
              "sentiment_text                               \n",
              "Anti                 1221                 8.6\n",
              "Neutral              2244                15.8\n",
              "News                 3542                24.9\n",
              "Pro                  7222                50.8"
            ]
          },
          "metadata": {
            "tags": []
          },
          "execution_count": 427
        }
      ]
    },
    {
      "cell_type": "markdown",
      "metadata": {
        "id": "z7CxDNp3Ef_M",
        "colab_type": "text"
      },
      "source": [
        "The class labels of the training data are not balanced. As shown in the table above, most of the tweets (50.8%) are classified as `Pro`, which in the context of the `Problem Statement` means they believe in man-made climate change. The other classes (`News`, `Neutral` and `Anti`) account for `24.9%`, `15.8%` and `8.6%`respectively. This presents a challenge in that the models developed might have a bias in classifying tweets. To further illustrate this distribution, a bar graph of the count of each sentiment class is shown below: "
      ]
    },
    {
      "cell_type": "code",
      "metadata": {
        "id": "0jsx8UMEEf_N",
        "colab_type": "code",
        "colab": {
          "base_uri": "https://localhost:8080/",
          "height": 522
        },
        "outputId": "9ea23342-2de0-439e-f2eb-35c6bd834395"
      },
      "source": [
        "# Show the ditribution of the classes as a graph\n",
        "f, ax = plt.subplots(figsize=(10, 8))\n",
        "sns.set(style=\"whitegrid\")\n",
        "ax = sns.countplot(x=\"sentiment_text\", data=new_X_df)\n",
        "plt.title('Message Count', fontsize =20)\n",
        "plt.show()"
      ],
      "execution_count": 428,
      "outputs": [
        {
          "output_type": "display_data",
          "data": {
            "image/png": "[encoded data removed]",
            "text/plain": [
              "<Figure size 720x576 with 1 Axes>"
            ]
          },
          "metadata": {
            "tags": []
          }
        }
      ]
    },
    {
      "cell_type": "markdown",
      "metadata": {
        "id": "oJ3-DOWvEf_V",
        "colab_type": "text"
      },
      "source": [
        "#### Length of Tweets per Sentiment Class "
      ]
    },
    {
      "cell_type": "code",
      "metadata": {
        "id": "Ar4ZloywEf_W",
        "colab_type": "code",
        "colab": {
          "base_uri": "https://localhost:8080/",
          "height": 202
        },
        "outputId": "f94f17f0-2ec5-4a6c-a57a-7a76cb3a2e33"
      },
      "source": [
        "# Add a column of length of tweets. \n",
        "new_X_df['message_length'] = X_df['message'].str.len()\n",
        "new_X_df.head()"
      ],
      "execution_count": 429,
      "outputs": [
        {
          "output_type": "execute_result",
          "data": {
            "text/html": [
              "<div>\n",
              "<style scoped>\n",
              "    .dataframe tbody tr th:only-of-type {\n",
              "        vertical-align: middle;\n",
              "    }\n",
              "\n",
              "    .dataframe tbody tr th {\n",
              "        vertical-align: top;\n",
              "    }\n",
              "\n",
              "    .dataframe thead th {\n",
              "        text-align: right;\n",
              "    }\n",
              "</style>\n",
              "<table border=\"1\" class=\"dataframe\">\n",
              "  <thead>\n",
              "    <tr style=\"text-align: right;\">\n",
              "      <th></th>\n",
              "      <th>sentiment</th>\n",
              "      <th>sentiment_text</th>\n",
              "      <th>message_length</th>\n",
              "    </tr>\n",
              "  </thead>\n",
              "  <tbody>\n",
              "    <tr>\n",
              "      <th>0</th>\n",
              "      <td>1</td>\n",
              "      <td>Pro</td>\n",
              "      <td>140</td>\n",
              "    </tr>\n",
              "    <tr>\n",
              "      <th>1</th>\n",
              "      <td>1</td>\n",
              "      <td>Pro</td>\n",
              "      <td>62</td>\n",
              "    </tr>\n",
              "    <tr>\n",
              "      <th>2</th>\n",
              "      <td>2</td>\n",
              "      <td>News</td>\n",
              "      <td>140</td>\n",
              "    </tr>\n",
              "    <tr>\n",
              "      <th>3</th>\n",
              "      <td>1</td>\n",
              "      <td>Pro</td>\n",
              "      <td>99</td>\n",
              "    </tr>\n",
              "    <tr>\n",
              "      <th>4</th>\n",
              "      <td>1</td>\n",
              "      <td>Pro</td>\n",
              "      <td>122</td>\n",
              "    </tr>\n",
              "  </tbody>\n",
              "</table>\n",
              "</div>"
            ],
            "text/plain": [
              "   sentiment sentiment_text  message_length\n",
              "0          1            Pro             140\n",
              "1          1            Pro              62\n",
              "2          2           News             140\n",
              "3          1            Pro              99\n",
              "4          1            Pro             122"
            ]
          },
          "metadata": {
            "tags": []
          },
          "execution_count": 429
        }
      ]
    },
    {
      "cell_type": "code",
      "metadata": {
        "id": "bU5HLC2aEf_g",
        "colab_type": "code",
        "colab": {
          "base_uri": "https://localhost:8080/",
          "height": 394
        },
        "outputId": "57e27926-c63a-4d51-eeb9-a2224abce6d7"
      },
      "source": [
        "# Display the boxplot of the length of tweets.\n",
        "plt.figure(figsize=(12.8,6))\n",
        "sns.boxplot(data=new_X_df, x='sentiment_text', y='message_length');"
      ],
      "execution_count": 430,
      "outputs": [
        {
          "output_type": "display_data",
          "data": {
            "image/png": "[encoded data removed]",
            "text/plain": [
              "<Figure size 921.6x432 with 1 Axes>"
            ]
          },
          "metadata": {
            "tags": []
          }
        }
      ]
    },
    {
      "cell_type": "markdown",
      "metadata": {
        "id": "Qf7jI2G1Ef_l",
        "colab_type": "text"
      },
      "source": [
        "The Tweets seem to be around `125` characters loong on average. This is shown by both the mean of the classes in the boxplots above and distribution density of the classes below. All the classes have a distribution density centred around `125` characters. \n",
        "\n",
        "The length of `Neutral` Tweets seem to have a wider range and `Pro` Tweets have a shorter range. The `Pro` Tweets also seem to have a lot of `outliers` by this measurement."
      ]
    },
    {
      "cell_type": "code",
      "metadata": {
        "id": "zgzwW_E9Ef_n",
        "colab_type": "code",
        "colab": {
          "base_uri": "https://localhost:8080/",
          "height": 417
        },
        "outputId": "09209155-fac3-47a1-dfca-52ccd8d1ba65"
      },
      "source": [
        "\n",
        "# Plot of distribution of scores for building categories\n",
        "plt.figure(figsize=(12.8,6))\n",
        "\n",
        "    \n",
        "# Density plot of Energy Star scores\n",
        "sns.kdeplot(new_X_df[new_X_df['sentiment_text'] == 'Pro']['message_length'], label = 'Pro', shade = False, alpha = 0.8);\n",
        "sns.kdeplot(new_X_df[new_X_df['sentiment_text'] == 'News']['message_length'], label = 'News', shade = False, alpha = 0.8);\n",
        "sns.kdeplot(new_X_df[new_X_df['sentiment_text'] == 'Neutral']['message_length'], label = 'Neutral', shade = False, alpha = 0.8);\n",
        "sns.kdeplot(new_X_df[new_X_df['sentiment_text'] == 'Anti']['message_length'], label = 'Anti', shade = False, alpha = 0.8);\n",
        "\n",
        "# label the plot\n",
        "plt.xlabel('message length (char)', size = 15); plt.ylabel('Density', size = 15); \n",
        "plt.title('Density Plot of Message Length by Sentiment Class ', size = 20);"
      ],
      "execution_count": 431,
      "outputs": [
        {
          "output_type": "display_data",
          "data": {
            "image/png": "[encoded data removed]",
            "text/plain": [
              "<Figure size 921.6x432 with 1 Axes>"
            ]
          },
          "metadata": {
            "tags": []
          }
        }
      ]
    },
    {
      "cell_type": "markdown",
      "metadata": {
        "id": "Z8laxiDDEf_v",
        "colab_type": "text"
      },
      "source": [
        "### Data Preprocessing"
      ]
    },
    {
      "cell_type": "markdown",
      "metadata": {
        "id": "kyLL2V6IPEvA",
        "colab_type": "text"
      },
      "source": [
        "Text data needs to be pre-processed efore modelling. Steps taken include\n",
        "\n",
        "1.   Removing of replacing certain text\n",
        "2. Tokenization of text\n",
        "3. Lemmatization of text\n"
      ]
    },
    {
      "cell_type": "code",
      "metadata": {
        "id": "nLEtbQQGPECQ",
        "colab_type": "code",
        "colab": {}
      },
      "source": [
        "# Function to remove/replace unwanted text such as characters,URLs etc\n",
        "\n",
        "def clean(text):\n",
        "\n",
        "  text=text.replace(\"'\",'')\n",
        "  text=text.replace(\".\",' ')\n",
        "  text=text.replace(\"  \",'')\n",
        "  text=text.replace(\",\",' ')\n",
        "  text=text.replace(\"_\",' ')\n",
        "  text=text.replace(\"!\",' ')\n",
        "  text=text.replace(\"RT\",'relay') #Replace RT(Retweet) with relay\n",
        "  text=text.replace(r'\\d+','')\n",
        "  text=re.sub('((www\\.[^\\s]+)|(https?://[^\\s]+)|(https?//[^\\s]+))','url',text)\n",
        "  text=text.lower()  # Lowercase tweet\n",
        "  text =text.lstrip('\\'\"') # Remove extra white space\n",
        "  \n",
        "  return text"
      ],
      "execution_count": 432,
      "outputs": []
    },
    {
      "cell_type": "markdown",
      "metadata": {
        "id": "gk4HyPOJghLU",
        "colab_type": "text"
      },
      "source": [
        "Punctution at the beginning and end of words can be removed"
      ]
    },
    {
      "cell_type": "code",
      "metadata": {
        "id": "6KYoOCa_kzB9",
        "colab_type": "code",
        "colab": {}
      },
      "source": [
        "#Function 3\n",
        "def rm_punc(text):\n",
        "  \n",
        "  clean_text=[]\n",
        "  for i in str(text).split():\n",
        "    rm=i.strip('\\'\"?,.:_/<>!')\n",
        "    clean_text.append(rm)\n",
        "  return ' '.join(clean_text)"
      ],
      "execution_count": 433,
      "outputs": []
    },
    {
      "cell_type": "code",
      "metadata": {
        "id": "bnSYA0HuPESX",
        "colab_type": "code",
        "colab": {
          "base_uri": "https://localhost:8080/",
          "height": 202
        },
        "outputId": "e7ba8e16-f6d2-41f4-dce8-686d7932cb67"
      },
      "source": [
        "X_df['message']=X_df['message'].apply(clean)\n",
        "X_df['message']=X_df['message'].apply(rm_punc)\n",
        "X_df.head(5)"
      ],
      "execution_count": 434,
      "outputs": [
        {
          "output_type": "execute_result",
          "data": {
            "text/html": [
              "<div>\n",
              "<style scoped>\n",
              "    .dataframe tbody tr th:only-of-type {\n",
              "        vertical-align: middle;\n",
              "    }\n",
              "\n",
              "    .dataframe tbody tr th {\n",
              "        vertical-align: top;\n",
              "    }\n",
              "\n",
              "    .dataframe thead th {\n",
              "        text-align: right;\n",
              "    }\n",
              "</style>\n",
              "<table border=\"1\" class=\"dataframe\">\n",
              "  <thead>\n",
              "    <tr style=\"text-align: right;\">\n",
              "      <th></th>\n",
              "      <th>sentiment</th>\n",
              "      <th>message</th>\n",
              "      <th>tweetid</th>\n",
              "    </tr>\n",
              "  </thead>\n",
              "  <tbody>\n",
              "    <tr>\n",
              "      <th>0</th>\n",
              "      <td>1</td>\n",
              "      <td>polyscimajor epa chief doesnt think carbon dio...</td>\n",
              "      <td>625221</td>\n",
              "    </tr>\n",
              "    <tr>\n",
              "      <th>1</th>\n",
              "      <td>1</td>\n",
              "      <td>its not like we lack evidence of anthropogenic...</td>\n",
              "      <td>126103</td>\n",
              "    </tr>\n",
              "    <tr>\n",
              "      <th>2</th>\n",
              "      <td>2</td>\n",
              "      <td>relay @rawstory researchers say we have three ...</td>\n",
              "      <td>698562</td>\n",
              "    </tr>\n",
              "    <tr>\n",
              "      <th>3</th>\n",
              "      <td>1</td>\n",
              "      <td>#todayinmaker# wired  2016 was a pivotal year ...</td>\n",
              "      <td>573736</td>\n",
              "    </tr>\n",
              "    <tr>\n",
              "      <th>4</th>\n",
              "      <td>1</td>\n",
              "      <td>relay @soynoviodetodas its 2016 and a racist s...</td>\n",
              "      <td>466954</td>\n",
              "    </tr>\n",
              "  </tbody>\n",
              "</table>\n",
              "</div>"
            ],
            "text/plain": [
              "   sentiment                                            message  tweetid\n",
              "0          1  polyscimajor epa chief doesnt think carbon dio...   625221\n",
              "1          1  its not like we lack evidence of anthropogenic...   126103\n",
              "2          2  relay @rawstory researchers say we have three ...   698562\n",
              "3          1  #todayinmaker# wired  2016 was a pivotal year ...   573736\n",
              "4          1  relay @soynoviodetodas its 2016 and a racist s...   466954"
            ]
          },
          "metadata": {
            "tags": []
          },
          "execution_count": 434
        }
      ]
    },
    {
      "cell_type": "markdown",
      "metadata": {
        "id": "0FNxFyx9QrMp",
        "colab_type": "text"
      },
      "source": [
        "Furthermore, the @ and # must be dealt with by replacing at with @ and removing #\n"
      ]
    },
    {
      "cell_type": "code",
      "metadata": {
        "id": "85bVCek9PEVk",
        "colab_type": "code",
        "colab": {}
      },
      "source": [
        "# Function replaces the @ symbol with the word at\n",
        "\n",
        "def at(text):\n",
        " \n",
        "  return ' '.join(re.sub(\"(@+)\",\"at \",text).split())"
      ],
      "execution_count": 435,
      "outputs": []
    },
    {
      "cell_type": "code",
      "metadata": {
        "id": "lrDuiOpFPEYt",
        "colab_type": "code",
        "colab": {}
      },
      "source": [
        "# Function replaces the # symbol with the word tag\n",
        "\n",
        "def hashtag(text):\n",
        "\n",
        "  return ' '.join(re.sub(\"(#+)\",\" tag \",text).split())"
      ],
      "execution_count": 436,
      "outputs": []
    },
    {
      "cell_type": "code",
      "metadata": {
        "id": "f73UXkWgRJNu",
        "colab_type": "code",
        "colab": {
          "base_uri": "https://localhost:8080/",
          "height": 202
        },
        "outputId": "41e68d37-7170-4ab3-870d-82c459e7e19d"
      },
      "source": [
        "#remove hashtags and replace @\n",
        "X_df['message']=X_df['message'].apply(at)\n",
        "X_df['message']=X_df['message'].apply(hashtag)\n",
        "X_df.head(5)"
      ],
      "execution_count": 437,
      "outputs": [
        {
          "output_type": "execute_result",
          "data": {
            "text/html": [
              "<div>\n",
              "<style scoped>\n",
              "    .dataframe tbody tr th:only-of-type {\n",
              "        vertical-align: middle;\n",
              "    }\n",
              "\n",
              "    .dataframe tbody tr th {\n",
              "        vertical-align: top;\n",
              "    }\n",
              "\n",
              "    .dataframe thead th {\n",
              "        text-align: right;\n",
              "    }\n",
              "</style>\n",
              "<table border=\"1\" class=\"dataframe\">\n",
              "  <thead>\n",
              "    <tr style=\"text-align: right;\">\n",
              "      <th></th>\n",
              "      <th>sentiment</th>\n",
              "      <th>message</th>\n",
              "      <th>tweetid</th>\n",
              "    </tr>\n",
              "  </thead>\n",
              "  <tbody>\n",
              "    <tr>\n",
              "      <th>0</th>\n",
              "      <td>1</td>\n",
              "      <td>polyscimajor epa chief doesnt think carbon dio...</td>\n",
              "      <td>625221</td>\n",
              "    </tr>\n",
              "    <tr>\n",
              "      <th>1</th>\n",
              "      <td>1</td>\n",
              "      <td>its not like we lack evidence of anthropogenic...</td>\n",
              "      <td>126103</td>\n",
              "    </tr>\n",
              "    <tr>\n",
              "      <th>2</th>\n",
              "      <td>2</td>\n",
              "      <td>relay at rawstory researchers say we have thre...</td>\n",
              "      <td>698562</td>\n",
              "    </tr>\n",
              "    <tr>\n",
              "      <th>3</th>\n",
              "      <td>1</td>\n",
              "      <td>tag todayinmaker tag wired 2016 was a pivotal ...</td>\n",
              "      <td>573736</td>\n",
              "    </tr>\n",
              "    <tr>\n",
              "      <th>4</th>\n",
              "      <td>1</td>\n",
              "      <td>relay at soynoviodetodas its 2016 and a racist...</td>\n",
              "      <td>466954</td>\n",
              "    </tr>\n",
              "  </tbody>\n",
              "</table>\n",
              "</div>"
            ],
            "text/plain": [
              "   sentiment                                            message  tweetid\n",
              "0          1  polyscimajor epa chief doesnt think carbon dio...   625221\n",
              "1          1  its not like we lack evidence of anthropogenic...   126103\n",
              "2          2  relay at rawstory researchers say we have thre...   698562\n",
              "3          1  tag todayinmaker tag wired 2016 was a pivotal ...   573736\n",
              "4          1  relay at soynoviodetodas its 2016 and a racist...   466954"
            ]
          },
          "metadata": {
            "tags": []
          },
          "execution_count": 437
        }
      ]
    },
    {
      "cell_type": "markdown",
      "metadata": {
        "id": "KZh1WiiHy8FM",
        "colab_type": "text"
      },
      "source": [
        "##Tokenize and Lemmatization"
      ]
    },
    {
      "cell_type": "markdown",
      "metadata": {
        "id": "It16SUnuipqZ",
        "colab_type": "text"
      },
      "source": [
        "Split tweets into individual words via tokenization in the tokens column."
      ]
    },
    {
      "cell_type": "code",
      "metadata": {
        "id": "Eln9Bj8GzDBO",
        "colab_type": "code",
        "colab": {
          "base_uri": "https://localhost:8080/",
          "height": 202
        },
        "outputId": "f17c1578-04eb-4eea-ffc8-997bab29ea4d"
      },
      "source": [
        "# Tokenise each tweet messge\n",
        "\n",
        "tokeniser = TreebankWordTokenizer()\n",
        "X_df['tokens'] = X_df['message'].apply(tokeniser.tokenize)\n",
        "X_df.head(5)"
      ],
      "execution_count": 438,
      "outputs": [
        {
          "output_type": "execute_result",
          "data": {
            "text/html": [
              "<div>\n",
              "<style scoped>\n",
              "    .dataframe tbody tr th:only-of-type {\n",
              "        vertical-align: middle;\n",
              "    }\n",
              "\n",
              "    .dataframe tbody tr th {\n",
              "        vertical-align: top;\n",
              "    }\n",
              "\n",
              "    .dataframe thead th {\n",
              "        text-align: right;\n",
              "    }\n",
              "</style>\n",
              "<table border=\"1\" class=\"dataframe\">\n",
              "  <thead>\n",
              "    <tr style=\"text-align: right;\">\n",
              "      <th></th>\n",
              "      <th>sentiment</th>\n",
              "      <th>message</th>\n",
              "      <th>tweetid</th>\n",
              "      <th>tokens</th>\n",
              "    </tr>\n",
              "  </thead>\n",
              "  <tbody>\n",
              "    <tr>\n",
              "      <th>0</th>\n",
              "      <td>1</td>\n",
              "      <td>polyscimajor epa chief doesnt think carbon dio...</td>\n",
              "      <td>625221</td>\n",
              "      <td>[polyscimajor, epa, chief, doesnt, think, carb...</td>\n",
              "    </tr>\n",
              "    <tr>\n",
              "      <th>1</th>\n",
              "      <td>1</td>\n",
              "      <td>its not like we lack evidence of anthropogenic...</td>\n",
              "      <td>126103</td>\n",
              "      <td>[its, not, like, we, lack, evidence, of, anthr...</td>\n",
              "    </tr>\n",
              "    <tr>\n",
              "      <th>2</th>\n",
              "      <td>2</td>\n",
              "      <td>relay at rawstory researchers say we have thre...</td>\n",
              "      <td>698562</td>\n",
              "      <td>[relay, at, rawstory, researchers, say, we, ha...</td>\n",
              "    </tr>\n",
              "    <tr>\n",
              "      <th>3</th>\n",
              "      <td>1</td>\n",
              "      <td>tag todayinmaker tag wired 2016 was a pivotal ...</td>\n",
              "      <td>573736</td>\n",
              "      <td>[tag, todayinmaker, tag, wired, 2016, was, a, ...</td>\n",
              "    </tr>\n",
              "    <tr>\n",
              "      <th>4</th>\n",
              "      <td>1</td>\n",
              "      <td>relay at soynoviodetodas its 2016 and a racist...</td>\n",
              "      <td>466954</td>\n",
              "      <td>[relay, at, soynoviodetodas, its, 2016, and, a...</td>\n",
              "    </tr>\n",
              "  </tbody>\n",
              "</table>\n",
              "</div>"
            ],
            "text/plain": [
              "   sentiment  ...                                             tokens\n",
              "0          1  ...  [polyscimajor, epa, chief, doesnt, think, carb...\n",
              "1          1  ...  [its, not, like, we, lack, evidence, of, anthr...\n",
              "2          2  ...  [relay, at, rawstory, researchers, say, we, ha...\n",
              "3          1  ...  [tag, todayinmaker, tag, wired, 2016, was, a, ...\n",
              "4          1  ...  [relay, at, soynoviodetodas, its, 2016, and, a...\n",
              "\n",
              "[5 rows x 4 columns]"
            ]
          },
          "metadata": {
            "tags": []
          },
          "execution_count": 438
        }
      ]
    },
    {
      "cell_type": "markdown",
      "metadata": {
        "id": "xFgVadWijBaP",
        "colab_type": "text"
      },
      "source": [
        "Perform Lemmatization of tokens to group together the different inflected forms of a word so they can be analysed as a single item"
      ]
    },
    {
      "cell_type": "code",
      "metadata": {
        "id": "3ms9QaNBq_fK",
        "colab_type": "code",
        "colab": {}
      },
      "source": [
        "# Function performs lemmatization in the tokens column\n",
        "\n",
        "def lemma(text):\n",
        "  lemma = WordNetLemmatizer() \n",
        "  return [lemma.lemmatize(i) for i in text]\n"
      ],
      "execution_count": 439,
      "outputs": []
    },
    {
      "cell_type": "markdown",
      "metadata": {
        "id": "IGEjwO5ijfvm",
        "colab_type": "text"
      },
      "source": [
        "Generate Lemmatization column"
      ]
    },
    {
      "cell_type": "code",
      "metadata": {
        "id": "dQWGoxxGrVnS",
        "colab_type": "code",
        "colab": {
          "base_uri": "https://localhost:8080/",
          "height": 202
        },
        "outputId": "0b090f10-fb54-4078-8033-92c93007a720"
      },
      "source": [
        "X_df['lemma'] =X_df['tokens'].apply(lemma)\n",
        "X_df.head(5)"
      ],
      "execution_count": 440,
      "outputs": [
        {
          "output_type": "execute_result",
          "data": {
            "text/html": [
              "<div>\n",
              "<style scoped>\n",
              "    .dataframe tbody tr th:only-of-type {\n",
              "        vertical-align: middle;\n",
              "    }\n",
              "\n",
              "    .dataframe tbody tr th {\n",
              "        vertical-align: top;\n",
              "    }\n",
              "\n",
              "    .dataframe thead th {\n",
              "        text-align: right;\n",
              "    }\n",
              "</style>\n",
              "<table border=\"1\" class=\"dataframe\">\n",
              "  <thead>\n",
              "    <tr style=\"text-align: right;\">\n",
              "      <th></th>\n",
              "      <th>sentiment</th>\n",
              "      <th>message</th>\n",
              "      <th>tweetid</th>\n",
              "      <th>tokens</th>\n",
              "      <th>lemma</th>\n",
              "    </tr>\n",
              "  </thead>\n",
              "  <tbody>\n",
              "    <tr>\n",
              "      <th>0</th>\n",
              "      <td>1</td>\n",
              "      <td>polyscimajor epa chief doesnt think carbon dio...</td>\n",
              "      <td>625221</td>\n",
              "      <td>[polyscimajor, epa, chief, doesnt, think, carb...</td>\n",
              "      <td>[polyscimajor, epa, chief, doesnt, think, carb...</td>\n",
              "    </tr>\n",
              "    <tr>\n",
              "      <th>1</th>\n",
              "      <td>1</td>\n",
              "      <td>its not like we lack evidence of anthropogenic...</td>\n",
              "      <td>126103</td>\n",
              "      <td>[its, not, like, we, lack, evidence, of, anthr...</td>\n",
              "      <td>[it, not, like, we, lack, evidence, of, anthro...</td>\n",
              "    </tr>\n",
              "    <tr>\n",
              "      <th>2</th>\n",
              "      <td>2</td>\n",
              "      <td>relay at rawstory researchers say we have thre...</td>\n",
              "      <td>698562</td>\n",
              "      <td>[relay, at, rawstory, researchers, say, we, ha...</td>\n",
              "      <td>[relay, at, rawstory, researcher, say, we, hav...</td>\n",
              "    </tr>\n",
              "    <tr>\n",
              "      <th>3</th>\n",
              "      <td>1</td>\n",
              "      <td>tag todayinmaker tag wired 2016 was a pivotal ...</td>\n",
              "      <td>573736</td>\n",
              "      <td>[tag, todayinmaker, tag, wired, 2016, was, a, ...</td>\n",
              "      <td>[tag, todayinmaker, tag, wired, 2016, wa, a, p...</td>\n",
              "    </tr>\n",
              "    <tr>\n",
              "      <th>4</th>\n",
              "      <td>1</td>\n",
              "      <td>relay at soynoviodetodas its 2016 and a racist...</td>\n",
              "      <td>466954</td>\n",
              "      <td>[relay, at, soynoviodetodas, its, 2016, and, a...</td>\n",
              "      <td>[relay, at, soynoviodetodas, it, 2016, and, a,...</td>\n",
              "    </tr>\n",
              "  </tbody>\n",
              "</table>\n",
              "</div>"
            ],
            "text/plain": [
              "   sentiment  ...                                              lemma\n",
              "0          1  ...  [polyscimajor, epa, chief, doesnt, think, carb...\n",
              "1          1  ...  [it, not, like, we, lack, evidence, of, anthro...\n",
              "2          2  ...  [relay, at, rawstory, researcher, say, we, hav...\n",
              "3          1  ...  [tag, todayinmaker, tag, wired, 2016, wa, a, p...\n",
              "4          1  ...  [relay, at, soynoviodetodas, it, 2016, and, a,...\n",
              "\n",
              "[5 rows x 5 columns]"
            ]
          },
          "metadata": {
            "tags": []
          },
          "execution_count": 440
        }
      ]
    },
    {
      "cell_type": "markdown",
      "metadata": {
        "id": "exZYzlHSTZzW",
        "colab_type": "text"
      },
      "source": [
        "Lastly a new column derived from the lemma column can be generate in order to train the model/s"
      ]
    },
    {
      "cell_type": "code",
      "metadata": {
        "id": "ct2uB6A6TZ9X",
        "colab_type": "code",
        "colab": {
          "base_uri": "https://localhost:8080/",
          "height": 254
        },
        "outputId": "135a5c4d-2b98-4e82-ce1f-e799d0a48408"
      },
      "source": [
        "# Insert new clean message column\n",
        "X_df['clean message'] = X_df['lemma'].apply(lambda i: ' '.join(i))\n",
        "X_df.head(5)"
      ],
      "execution_count": 441,
      "outputs": [
        {
          "output_type": "execute_result",
          "data": {
            "text/html": [
              "<div>\n",
              "<style scoped>\n",
              "    .dataframe tbody tr th:only-of-type {\n",
              "        vertical-align: middle;\n",
              "    }\n",
              "\n",
              "    .dataframe tbody tr th {\n",
              "        vertical-align: top;\n",
              "    }\n",
              "\n",
              "    .dataframe thead th {\n",
              "        text-align: right;\n",
              "    }\n",
              "</style>\n",
              "<table border=\"1\" class=\"dataframe\">\n",
              "  <thead>\n",
              "    <tr style=\"text-align: right;\">\n",
              "      <th></th>\n",
              "      <th>sentiment</th>\n",
              "      <th>message</th>\n",
              "      <th>tweetid</th>\n",
              "      <th>tokens</th>\n",
              "      <th>lemma</th>\n",
              "      <th>clean message</th>\n",
              "    </tr>\n",
              "  </thead>\n",
              "  <tbody>\n",
              "    <tr>\n",
              "      <th>0</th>\n",
              "      <td>1</td>\n",
              "      <td>polyscimajor epa chief doesnt think carbon dio...</td>\n",
              "      <td>625221</td>\n",
              "      <td>[polyscimajor, epa, chief, doesnt, think, carb...</td>\n",
              "      <td>[polyscimajor, epa, chief, doesnt, think, carb...</td>\n",
              "      <td>polyscimajor epa chief doesnt think carbon dio...</td>\n",
              "    </tr>\n",
              "    <tr>\n",
              "      <th>1</th>\n",
              "      <td>1</td>\n",
              "      <td>its not like we lack evidence of anthropogenic...</td>\n",
              "      <td>126103</td>\n",
              "      <td>[its, not, like, we, lack, evidence, of, anthr...</td>\n",
              "      <td>[it, not, like, we, lack, evidence, of, anthro...</td>\n",
              "      <td>it not like we lack evidence of anthropogenic ...</td>\n",
              "    </tr>\n",
              "    <tr>\n",
              "      <th>2</th>\n",
              "      <td>2</td>\n",
              "      <td>relay at rawstory researchers say we have thre...</td>\n",
              "      <td>698562</td>\n",
              "      <td>[relay, at, rawstory, researchers, say, we, ha...</td>\n",
              "      <td>[relay, at, rawstory, researcher, say, we, hav...</td>\n",
              "      <td>relay at rawstory researcher say we have three...</td>\n",
              "    </tr>\n",
              "    <tr>\n",
              "      <th>3</th>\n",
              "      <td>1</td>\n",
              "      <td>tag todayinmaker tag wired 2016 was a pivotal ...</td>\n",
              "      <td>573736</td>\n",
              "      <td>[tag, todayinmaker, tag, wired, 2016, was, a, ...</td>\n",
              "      <td>[tag, todayinmaker, tag, wired, 2016, wa, a, p...</td>\n",
              "      <td>tag todayinmaker tag wired 2016 wa a pivotal y...</td>\n",
              "    </tr>\n",
              "    <tr>\n",
              "      <th>4</th>\n",
              "      <td>1</td>\n",
              "      <td>relay at soynoviodetodas its 2016 and a racist...</td>\n",
              "      <td>466954</td>\n",
              "      <td>[relay, at, soynoviodetodas, its, 2016, and, a...</td>\n",
              "      <td>[relay, at, soynoviodetodas, it, 2016, and, a,...</td>\n",
              "      <td>relay at soynoviodetodas it 2016 and a racist ...</td>\n",
              "    </tr>\n",
              "  </tbody>\n",
              "</table>\n",
              "</div>"
            ],
            "text/plain": [
              "   sentiment  ...                                      clean message\n",
              "0          1  ...  polyscimajor epa chief doesnt think carbon dio...\n",
              "1          1  ...  it not like we lack evidence of anthropogenic ...\n",
              "2          2  ...  relay at rawstory researcher say we have three...\n",
              "3          1  ...  tag todayinmaker tag wired 2016 wa a pivotal y...\n",
              "4          1  ...  relay at soynoviodetodas it 2016 and a racist ...\n",
              "\n",
              "[5 rows x 6 columns]"
            ]
          },
          "metadata": {
            "tags": []
          },
          "execution_count": 441
        }
      ]
    },
    {
      "cell_type": "markdown",
      "metadata": {
        "id": "UQcq1EiJTye2",
        "colab_type": "text"
      },
      "source": [
        "The words most popular amongst the sentiment groups can be displayed on word clouds"
      ]
    },
    {
      "cell_type": "code",
      "metadata": {
        "id": "OLdD9Bh1Ef_y",
        "colab_type": "code",
        "colab": {
          "base_uri": "https://localhost:8080/",
          "height": 590
        },
        "outputId": "ea1759c8-1120-448a-f1f9-585a22f7bde6"
      },
      "source": [
        "# Create and generate a word cloud image:\n",
        "wordcloud = WordCloud(width=1500, height = 900).generate(X_df['message'][0])\n",
        "\n",
        "# Display the generated image:\n",
        "fig, axs = plt.subplots(2, 2, figsize=(18,10))\n",
        "\n",
        "axs[0, 0].imshow(wordcloud, interpolation='bilinear')\n",
        "axs[0, 0].set_title('Pro Tweets')\n",
        "axs[0, 0].axis('off')\n",
        "axs[0, 1].imshow(wordcloud, interpolation='bilinear')\n",
        "axs[0, 1].set_title('News Tweets')\n",
        "axs[0, 1].axis('off')\n",
        "axs[1, 0].imshow(wordcloud, interpolation='bilinear')\n",
        "axs[1, 0].set_title('Neutral Tweets')\n",
        "axs[1, 0].axis('off')\n",
        "axs[1, 1].imshow(wordcloud, interpolation='bilinear')\n",
        "axs[1, 1].set_title('Anti Tweets')\n",
        "axs[1, 1].axis('off')\n",
        "\n",
        "plt.show()"
      ],
      "execution_count": 442,
      "outputs": [
        {
          "output_type": "display_data",
          "data": {
            "image/png": "[encoded data removed]",
            "text/plain": [
              "<Figure size 1296x720 with 4 Axes>"
            ]
          },
          "metadata": {
            "tags": []
          }
        }
      ]
    },
    {
      "cell_type": "markdown",
      "metadata": {
        "id": "9-qwhWPtCX5C",
        "colab_type": "text"
      },
      "source": [
        "#Model Training and Testing"
      ]
    },
    {
      "cell_type": "markdown",
      "metadata": {
        "colab_type": "text",
        "id": "qf6t56M5e5q2"
      },
      "source": [
        "Only the sentiment and clean message columns are required"
      ]
    },
    {
      "cell_type": "markdown",
      "metadata": {
        "colab_type": "text",
        "id": "uUTDxF8Be5ry"
      },
      "source": [
        "Train/Test Split"
      ]
    },
    {
      "cell_type": "markdown",
      "metadata": {
        "id": "xBPX_4TYlXRa",
        "colab_type": "text"
      },
      "source": [
        "X and y training features split from X_df\n"
      ]
    },
    {
      "cell_type": "code",
      "metadata": {
        "id": "pUX_Vu05Iuxs",
        "colab_type": "code",
        "colab": {}
      },
      "source": [
        "# Feature and label split \n",
        "\n",
        "X=X_df['clean message']\n",
        "y=X_df['sentiment']"
      ],
      "execution_count": 443,
      "outputs": []
    },
    {
      "cell_type": "markdown",
      "metadata": {
        "id": "TnKjqS2Ef6At",
        "colab_type": "text"
      },
      "source": [
        "25% of data allocated to testing"
      ]
    },
    {
      "cell_type": "code",
      "metadata": {
        "id": "KLXhFqr5fez5",
        "colab_type": "code",
        "colab": {}
      },
      "source": [
        "X_train, X_test, y_train, y_test = train_test_split(X, y, test_size=0.25, random_state=42)"
      ],
      "execution_count": 444,
      "outputs": []
    },
    {
      "cell_type": "markdown",
      "metadata": {
        "id": "UNsGn8vngyff",
        "colab_type": "text"
      },
      "source": [
        "SVC Classification with TfidfVectorization"
      ]
    },
    {
      "cell_type": "markdown",
      "metadata": {
        "id": "eFAbw5DfEH7e",
        "colab_type": "text"
      },
      "source": [
        "Parameter Search performed using GridSearch.(Takes a while to run, output hardcopied in pipeline.Uncheck to run)"
      ]
    },
    {
      "cell_type": "code",
      "metadata": {
        "id": "cquYRgNTgBl3",
        "colab_type": "code",
        "colab": {}
      },
      "source": [
        "#pipeline = Pipeline([('tfidf', TfidfVectorizer()),('clf', SVC())])\n",
        "\n",
        "#parameters = {\n",
        " #   'tfidf__max_df': (0.25, 0.5, 0.75),'tfidf__ngram_range': [(1, 1), (1, 2), (1, 3)],\n",
        "   # 'tfidf__max_features':(500,2500,5000),'clf__C':(0.1,1,10),'clf__gamma':(1,0.1,0.001)}\n",
        "\n",
        "#grid_search = GridSearchCV(pipeline, parameters, cv=2, n_jobs=2, verbose=3)\n",
        "#grid_search.fit(X_train, y_train)"
      ],
      "execution_count": 445,
      "outputs": []
    },
    {
      "cell_type": "code",
      "metadata": {
        "id": "ghth-VBNHCP3",
        "colab_type": "code",
        "colab": {}
      },
      "source": [
        "#grid_search.best_params_"
      ],
      "execution_count": 446,
      "outputs": []
    },
    {
      "cell_type": "code",
      "metadata": {
        "id": "q3ea2DsgOIU8",
        "colab_type": "code",
        "colab": {}
      },
      "source": [
        "#grid_predictions = grid_search.predict(X_test)"
      ],
      "execution_count": 447,
      "outputs": []
    },
    {
      "cell_type": "markdown",
      "metadata": {
        "id": "c4rGGRbVgTb3",
        "colab_type": "text"
      },
      "source": [
        "From the Gridsearch. The ideal parameters for SVC classification combined with TfidfVectoriztion is c=10 , gamma=1 , max_df=0.25 , max_features=5000 , ngram=(1,1)"
      ]
    },
    {
      "cell_type": "markdown",
      "metadata": {
        "id": "TX20urvbmbKg",
        "colab_type": "text"
      },
      "source": [
        "Fitting model with optimized parameters"
      ]
    },
    {
      "cell_type": "code",
      "metadata": {
        "id": "SLN8SKkGpMFZ",
        "colab_type": "code",
        "colab": {}
      },
      "source": [
        "#Pipeline \n",
        "\n",
        "svc = Pipeline(\n",
        "    [('tfidf', TfidfVectorizer(analyzer='word', max_df=0.75,max_features=5000,ngram_range=(1,1)))\n",
        "    ,('clf', SVC(C=10,gamma=1))])\n",
        "\n",
        "# Train model\n",
        "model=svc.fit(X_train, y_train)\n",
        "\n",
        "# Form a prediction set\n",
        "predictions = model.predict(X_test)"
      ],
      "execution_count": 448,
      "outputs": []
    },
    {
      "cell_type": "code",
      "metadata": {
        "id": "4BXUQkFuhEk3",
        "colab_type": "code",
        "colab": {
          "base_uri": "https://localhost:8080/",
          "height": 433
        },
        "outputId": "327554fa-8a97-4bc5-bdf5-937072845d59"
      },
      "source": [
        "# Print Results\n",
        "#Confusion matrix\n",
        "confusion = 'Confusion Matrix'.center(100, '*')\n",
        "print(confusion)\n",
        "matrix=confusion_matrix(y_test,predictions)\n",
        "print(confusion_matrix(y_test,predictions))\n",
        "print('')\n",
        "\n",
        "#Classification report\n",
        "report='Classification Report'.center(100,'*')\n",
        "print(report)\n",
        "print('')\n",
        "print(classification_report(y_test,predictions))\n",
        "print('')\n",
        "\n",
        "#Model Performance\n",
        "performance='Performance Metrics'.center(100,'*')\n",
        "print(performance)\n",
        "print('The model accuracy is :',accuracy_score(y_test,predictions))\n",
        "print('The model recall is :',recall_score(y_test, predictions,average='weighted'))\n",
        "\n",
        "F1 = 2 * (precision_score(y_test,predictions,average='weighted') * recall_score(y_test, predictions,average='weighted')) / (precision_score(y_test,predictions,average='weighted') + recall_score(y_test, predictions,average='weighted'))\n",
        "\n",
        "print('The model F1score is : ',F1)"
      ],
      "execution_count": 463,
      "outputs": [
        {
          "output_type": "stream",
          "text": [
            "******************************************Confusion Matrix******************************************\n",
            "[[  99   45  157   10]\n",
            " [  22  184  314   40]\n",
            " [  19   73 1568  135]\n",
            " [   2    5  187  698]]\n",
            "\n",
            "***************************************Classification Report****************************************\n",
            "\n",
            "              precision    recall  f1-score   support\n",
            "\n",
            "          -1       0.70      0.32      0.44       311\n",
            "           0       0.60      0.33      0.42       560\n",
            "           1       0.70      0.87      0.78      1795\n",
            "           2       0.79      0.78      0.79       892\n",
            "\n",
            "    accuracy                           0.72      3558\n",
            "   macro avg       0.70      0.58      0.61      3558\n",
            "weighted avg       0.71      0.72      0.70      3558\n",
            "\n",
            "\n",
            "****************************************Performance Metrics*****************************************\n",
            "The model accuracy is : 0.7164137155705452\n",
            "The model recall is : 0.7164137155705452\n",
            "The model F1score is :  0.7125958412814244\n"
          ],
          "name": "stdout"
        }
      ]
    },
    {
      "cell_type": "markdown",
      "metadata": {
        "id": "I8n10NgBoQg_",
        "colab_type": "text"
      },
      "source": [
        "Save model as pickle"
      ]
    },
    {
      "cell_type": "code",
      "metadata": {
        "id": "qMQX7OQnK9GK",
        "colab_type": "code",
        "colab": {}
      },
      "source": [
        "import pickle\n",
        "model_save_path = \"SVC.pkl\"\n",
        "with open(model_save_path,'wb') as file:\n",
        "    pickle.dump(svc,file)"
      ],
      "execution_count": 450,
      "outputs": []
    },
    {
      "cell_type": "markdown",
      "metadata": {
        "id": "9ueXeWJSQF1Z",
        "colab_type": "text"
      },
      "source": [
        "#Model Prediction on test.csv"
      ]
    },
    {
      "cell_type": "markdown",
      "metadata": {
        "id": "qOOrWKoaoeol",
        "colab_type": "text"
      },
      "source": [
        "Perform data cleaning as done before on the test dataframe from test.csv"
      ]
    },
    {
      "cell_type": "code",
      "metadata": {
        "id": "L0ATQxmnl9LU",
        "colab_type": "code",
        "colab": {}
      },
      "source": [
        "#import tes.csv\n",
        "\n",
        "test=pd.read_csv('test.csv')"
      ],
      "execution_count": 451,
      "outputs": []
    },
    {
      "cell_type": "code",
      "metadata": {
        "colab_type": "code",
        "id": "o8smVQ6DLddB",
        "colab": {}
      },
      "source": [
        "# Text cleaning\n",
        "test['message']=test['message'].apply(clean) #clean data\n",
        "test['message']=test['message'].apply(rm_punc) #remove punctuation\n",
        "test['message']=test['message'].apply(at) #replace @\n",
        "test['message']=test['message'].apply(hashtag) #remove #"
      ],
      "execution_count": 452,
      "outputs": []
    },
    {
      "cell_type": "code",
      "metadata": {
        "id": "K-FGpTUtMAOX",
        "colab_type": "code",
        "colab": {}
      },
      "source": [
        "#Tokenize messages\n",
        "tokeniser = TreebankWordTokenizer()\n",
        "test['tokens'] = test['message'].apply(tokeniser.tokenize)"
      ],
      "execution_count": 453,
      "outputs": []
    },
    {
      "cell_type": "code",
      "metadata": {
        "colab_type": "code",
        "id": "YDNFiLGPR4Ag",
        "colab": {}
      },
      "source": [
        "#Lemmatize tokens column\n",
        "test['lemma'] = test['tokens'].apply(lemma)"
      ],
      "execution_count": 454,
      "outputs": []
    },
    {
      "cell_type": "code",
      "metadata": {
        "colab_type": "code",
        "id": "vmt7iJiWR4BI",
        "colab": {}
      },
      "source": [
        "# Generate clean message column\n",
        "test['clean message'] = test['lemma'].apply(lambda i: ' '.join(i))"
      ],
      "execution_count": 455,
      "outputs": []
    },
    {
      "cell_type": "code",
      "metadata": {
        "id": "tAgepLG0mLCs",
        "colab_type": "code",
        "colab": {
          "base_uri": "https://localhost:8080/",
          "height": 433
        },
        "outputId": "7cf8faa9-23cf-410e-8789-f907c54c0420"
      },
      "source": [
        "test"
      ],
      "execution_count": 456,
      "outputs": [
        {
          "output_type": "execute_result",
          "data": {
            "text/html": [
              "<div>\n",
              "<style scoped>\n",
              "    .dataframe tbody tr th:only-of-type {\n",
              "        vertical-align: middle;\n",
              "    }\n",
              "\n",
              "    .dataframe tbody tr th {\n",
              "        vertical-align: top;\n",
              "    }\n",
              "\n",
              "    .dataframe thead th {\n",
              "        text-align: right;\n",
              "    }\n",
              "</style>\n",
              "<table border=\"1\" class=\"dataframe\">\n",
              "  <thead>\n",
              "    <tr style=\"text-align: right;\">\n",
              "      <th></th>\n",
              "      <th>message</th>\n",
              "      <th>tweetid</th>\n",
              "      <th>tokens</th>\n",
              "      <th>lemma</th>\n",
              "      <th>clean message</th>\n",
              "    </tr>\n",
              "  </thead>\n",
              "  <tbody>\n",
              "    <tr>\n",
              "      <th>0</th>\n",
              "      <td>europe will now be looking to china to make su...</td>\n",
              "      <td>169760</td>\n",
              "      <td>[europe, will, now, be, looking, to, china, to...</td>\n",
              "      <td>[europe, will, now, be, looking, to, china, to...</td>\n",
              "      <td>europe will now be looking to china to make su...</td>\n",
              "    </tr>\n",
              "    <tr>\n",
              "      <th>1</th>\n",
              "      <td>combine this with the polling of staffers re c...</td>\n",
              "      <td>35326</td>\n",
              "      <td>[combine, this, with, the, polling, of, staffe...</td>\n",
              "      <td>[combine, this, with, the, polling, of, staffe...</td>\n",
              "      <td>combine this with the polling of staffer re cl...</td>\n",
              "    </tr>\n",
              "    <tr>\n",
              "      <th>2</th>\n",
              "      <td>the scary unimpeachable evidence that climate ...</td>\n",
              "      <td>224985</td>\n",
              "      <td>[the, scary, unimpeachable, evidence, that, cl...</td>\n",
              "      <td>[the, scary, unimpeachable, evidence, that, cl...</td>\n",
              "      <td>the scary unimpeachable evidence that climate ...</td>\n",
              "    </tr>\n",
              "    <tr>\n",
              "      <th>3</th>\n",
              "      <td>at karoli at morgfair at osborneink at dailyko...</td>\n",
              "      <td>476263</td>\n",
              "      <td>[at, karoli, at, morgfair, at, osborneink, at,...</td>\n",
              "      <td>[at, karoli, at, morgfair, at, osborneink, at,...</td>\n",
              "      <td>at karoli at morgfair at osborneink at dailyko...</td>\n",
              "    </tr>\n",
              "    <tr>\n",
              "      <th>4</th>\n",
              "      <td>relay at fakewillmoore female orgasms cause gl...</td>\n",
              "      <td>872928</td>\n",
              "      <td>[relay, at, fakewillmoore, female, orgasms, ca...</td>\n",
              "      <td>[relay, at, fakewillmoore, female, orgasm, cau...</td>\n",
              "      <td>relay at fakewillmoore female orgasm cause glo...</td>\n",
              "    </tr>\n",
              "    <tr>\n",
              "      <th>...</th>\n",
              "      <td>...</td>\n",
              "      <td>...</td>\n",
              "      <td>...</td>\n",
              "      <td>...</td>\n",
              "      <td>...</td>\n",
              "    </tr>\n",
              "    <tr>\n",
              "      <th>10541</th>\n",
              "      <td>relay at brittanybohrer brb writing a poem abo...</td>\n",
              "      <td>895714</td>\n",
              "      <td>[relay, at, brittanybohrer, brb, writing, a, p...</td>\n",
              "      <td>[relay, at, brittanybohrer, brb, writing, a, p...</td>\n",
              "      <td>relay at brittanybohrer brb writing a poem abo...</td>\n",
              "    </tr>\n",
              "    <tr>\n",
              "      <th>10542</th>\n",
              "      <td>2016 the year climate change came home during ...</td>\n",
              "      <td>875167</td>\n",
              "      <td>[2016, the, year, climate, change, came, home,...</td>\n",
              "      <td>[2016, the, year, climate, change, came, home,...</td>\n",
              "      <td>2016 the year climate change came home during ...</td>\n",
              "    </tr>\n",
              "    <tr>\n",
              "      <th>10543</th>\n",
              "      <td>relay at loop vanuatu pacific countries positi...</td>\n",
              "      <td>78329</td>\n",
              "      <td>[relay, at, loop, vanuatu, pacific, countries,...</td>\n",
              "      <td>[relay, at, loop, vanuatu, pacific, country, p...</td>\n",
              "      <td>relay at loop vanuatu pacific country positive...</td>\n",
              "    </tr>\n",
              "    <tr>\n",
              "      <th>10544</th>\n",
              "      <td>relay at xanria 00018 you’re so hot you must b...</td>\n",
              "      <td>867455</td>\n",
              "      <td>[relay, at, xanria, 00018, you, ’, re, so, hot...</td>\n",
              "      <td>[relay, at, xanria, 00018, you, ’, re, so, hot...</td>\n",
              "      <td>relay at xanria 00018 you ’ re so hot you must...</td>\n",
              "    </tr>\n",
              "    <tr>\n",
              "      <th>10545</th>\n",
              "      <td>relay at chloebalaoing climate change is a glo...</td>\n",
              "      <td>470892</td>\n",
              "      <td>[relay, at, chloebalaoing, climate, change, is...</td>\n",
              "      <td>[relay, at, chloebalaoing, climate, change, is...</td>\n",
              "      <td>relay at chloebalaoing climate change is a glo...</td>\n",
              "    </tr>\n",
              "  </tbody>\n",
              "</table>\n",
              "<p>10546 rows × 5 columns</p>\n",
              "</div>"
            ],
            "text/plain": [
              "                                                 message  ...                                      clean message\n",
              "0      europe will now be looking to china to make su...  ...  europe will now be looking to china to make su...\n",
              "1      combine this with the polling of staffers re c...  ...  combine this with the polling of staffer re cl...\n",
              "2      the scary unimpeachable evidence that climate ...  ...  the scary unimpeachable evidence that climate ...\n",
              "3      at karoli at morgfair at osborneink at dailyko...  ...  at karoli at morgfair at osborneink at dailyko...\n",
              "4      relay at fakewillmoore female orgasms cause gl...  ...  relay at fakewillmoore female orgasm cause glo...\n",
              "...                                                  ...  ...                                                ...\n",
              "10541  relay at brittanybohrer brb writing a poem abo...  ...  relay at brittanybohrer brb writing a poem abo...\n",
              "10542  2016 the year climate change came home during ...  ...  2016 the year climate change came home during ...\n",
              "10543  relay at loop vanuatu pacific countries positi...  ...  relay at loop vanuatu pacific country positive...\n",
              "10544  relay at xanria 00018 you’re so hot you must b...  ...  relay at xanria 00018 you ’ re so hot you must...\n",
              "10545  relay at chloebalaoing climate change is a glo...  ...  relay at chloebalaoing climate change is a glo...\n",
              "\n",
              "[10546 rows x 5 columns]"
            ]
          },
          "metadata": {
            "tags": []
          },
          "execution_count": 456
        }
      ]
    },
    {
      "cell_type": "code",
      "metadata": {
        "colab_type": "code",
        "id": "SPlNmO4AMkIs",
        "colab": {}
      },
      "source": [
        "#Drop columns not needed for predictions\n",
        "drop_list=['message','tokens','lemma']\n",
        "test.drop(drop_list,axis=1,inplace=True)"
      ],
      "execution_count": 457,
      "outputs": []
    },
    {
      "cell_type": "markdown",
      "metadata": {
        "id": "95YXnQd7pVfP",
        "colab_type": "text"
      },
      "source": [
        "Final Dataframe format for kaggle prediction"
      ]
    },
    {
      "cell_type": "code",
      "metadata": {
        "id": "4sThL_kjm9gW",
        "colab_type": "code",
        "colab": {
          "base_uri": "https://localhost:8080/",
          "height": 416
        },
        "outputId": "48aec2b3-bfce-4b80-d419-60446f594654"
      },
      "source": [
        "test"
      ],
      "execution_count": 458,
      "outputs": [
        {
          "output_type": "execute_result",
          "data": {
            "text/html": [
              "<div>\n",
              "<style scoped>\n",
              "    .dataframe tbody tr th:only-of-type {\n",
              "        vertical-align: middle;\n",
              "    }\n",
              "\n",
              "    .dataframe tbody tr th {\n",
              "        vertical-align: top;\n",
              "    }\n",
              "\n",
              "    .dataframe thead th {\n",
              "        text-align: right;\n",
              "    }\n",
              "</style>\n",
              "<table border=\"1\" class=\"dataframe\">\n",
              "  <thead>\n",
              "    <tr style=\"text-align: right;\">\n",
              "      <th></th>\n",
              "      <th>tweetid</th>\n",
              "      <th>clean message</th>\n",
              "    </tr>\n",
              "  </thead>\n",
              "  <tbody>\n",
              "    <tr>\n",
              "      <th>0</th>\n",
              "      <td>169760</td>\n",
              "      <td>europe will now be looking to china to make su...</td>\n",
              "    </tr>\n",
              "    <tr>\n",
              "      <th>1</th>\n",
              "      <td>35326</td>\n",
              "      <td>combine this with the polling of staffer re cl...</td>\n",
              "    </tr>\n",
              "    <tr>\n",
              "      <th>2</th>\n",
              "      <td>224985</td>\n",
              "      <td>the scary unimpeachable evidence that climate ...</td>\n",
              "    </tr>\n",
              "    <tr>\n",
              "      <th>3</th>\n",
              "      <td>476263</td>\n",
              "      <td>at karoli at morgfair at osborneink at dailyko...</td>\n",
              "    </tr>\n",
              "    <tr>\n",
              "      <th>4</th>\n",
              "      <td>872928</td>\n",
              "      <td>relay at fakewillmoore female orgasm cause glo...</td>\n",
              "    </tr>\n",
              "    <tr>\n",
              "      <th>...</th>\n",
              "      <td>...</td>\n",
              "      <td>...</td>\n",
              "    </tr>\n",
              "    <tr>\n",
              "      <th>10541</th>\n",
              "      <td>895714</td>\n",
              "      <td>relay at brittanybohrer brb writing a poem abo...</td>\n",
              "    </tr>\n",
              "    <tr>\n",
              "      <th>10542</th>\n",
              "      <td>875167</td>\n",
              "      <td>2016 the year climate change came home during ...</td>\n",
              "    </tr>\n",
              "    <tr>\n",
              "      <th>10543</th>\n",
              "      <td>78329</td>\n",
              "      <td>relay at loop vanuatu pacific country positive...</td>\n",
              "    </tr>\n",
              "    <tr>\n",
              "      <th>10544</th>\n",
              "      <td>867455</td>\n",
              "      <td>relay at xanria 00018 you ’ re so hot you must...</td>\n",
              "    </tr>\n",
              "    <tr>\n",
              "      <th>10545</th>\n",
              "      <td>470892</td>\n",
              "      <td>relay at chloebalaoing climate change is a glo...</td>\n",
              "    </tr>\n",
              "  </tbody>\n",
              "</table>\n",
              "<p>10546 rows × 2 columns</p>\n",
              "</div>"
            ],
            "text/plain": [
              "       tweetid                                      clean message\n",
              "0       169760  europe will now be looking to china to make su...\n",
              "1        35326  combine this with the polling of staffer re cl...\n",
              "2       224985  the scary unimpeachable evidence that climate ...\n",
              "3       476263  at karoli at morgfair at osborneink at dailyko...\n",
              "4       872928  relay at fakewillmoore female orgasm cause glo...\n",
              "...        ...                                                ...\n",
              "10541   895714  relay at brittanybohrer brb writing a poem abo...\n",
              "10542   875167  2016 the year climate change came home during ...\n",
              "10543    78329  relay at loop vanuatu pacific country positive...\n",
              "10544   867455  relay at xanria 00018 you ’ re so hot you must...\n",
              "10545   470892  relay at chloebalaoing climate change is a glo...\n",
              "\n",
              "[10546 rows x 2 columns]"
            ]
          },
          "metadata": {
            "tags": []
          },
          "execution_count": 458
        }
      ]
    },
    {
      "cell_type": "markdown",
      "metadata": {
        "id": "7Ma8p7BPpmap",
        "colab_type": "text"
      },
      "source": [
        "Load model pickle to make predictions"
      ]
    },
    {
      "cell_type": "code",
      "metadata": {
        "id": "0su9E-rpM45I",
        "colab_type": "code",
        "colab": {}
      },
      "source": [
        "model_load_path = \"SVC.pkl\"\n",
        "with open(model_load_path,'rb') as file:\n",
        "    pickle_rick = pickle.load(file)"
      ],
      "execution_count": 459,
      "outputs": []
    },
    {
      "cell_type": "code",
      "metadata": {
        "id": "Zd0xoV9UNZZR",
        "colab_type": "code",
        "colab": {}
      },
      "source": [
        "kaggle_predictions = pickle_rick.predict(test['clean message'])\n",
        "kaggle_predictions = pd.DataFrame(kaggle_predictions)\n",
        "kaggle_predictions.rename(columns={0: \"sentiment\"}, inplace=True)\n",
        "kaggle_predictions[\"tweetid\"] = test['tweetid']\n",
        "cols = ['tweetid','sentiment']\n",
        "kaggle_predictions = kaggle_predictions[cols]"
      ],
      "execution_count": 460,
      "outputs": []
    },
    {
      "cell_type": "markdown",
      "metadata": {
        "id": "a7ot65fXpvOK",
        "colab_type": "text"
      },
      "source": [
        "Write predictions to upload_kaggle_pred.csv"
      ]
    },
    {
      "cell_type": "code",
      "metadata": {
        "id": "0NRD1pBrPpU_",
        "colab_type": "code",
        "colab": {}
      },
      "source": [
        "kaggle_predictions.to_csv(path_or_buf='/content/upload_kaggle_pred.csv',index=False)"
      ],
      "execution_count": 461,
      "outputs": []
    }
  ]
}